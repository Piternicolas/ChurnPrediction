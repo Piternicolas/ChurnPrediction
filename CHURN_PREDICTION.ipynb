{
  "nbformat": 4,
  "nbformat_minor": 0,
  "metadata": {
    "colab": {
      "provenance": [],
      "authorship_tag": "ABX9TyNvLlXmE+PM17qaJ9zeXTPa",
      "include_colab_link": true
    },
    "kernelspec": {
      "name": "python3",
      "display_name": "Python 3"
    },
    "language_info": {
      "name": "python"
    }
  },
  "cells": [
    {
      "cell_type": "markdown",
      "metadata": {
        "id": "view-in-github",
        "colab_type": "text"
      },
      "source": [
        "<a href=\"https://colab.research.google.com/github/Piternicolas/ChurnPrediction/blob/main/CHURN_PREDICTION.ipynb\" target=\"_parent\"><img src=\"https://colab.research.google.com/assets/colab-badge.svg\" alt=\"Open In Colab\"/></a>"
      ]
    },
    {
      "cell_type": "markdown",
      "source": [
        "# **CHURN PREDICTION EM EMPRESA DE TELEFONIA**\n",
        "* Em resumo, **Churn Prediction** significa prever quando um cliente tem altas chances de cancelar um serviço ou assinatura, ou quando você vai perder um cliente. Geralmente há um certo tipo de padrão em tudo, em específico nesse projeto irei trabalhar em cima do comportamento de clientes que cancelaram o serviço e irei desenvolver um `algoritmo de machine learning` capaz de prever os clientes que tenham altas chances de cancelar o serviço de assinatura dessa empresa de telefonia.\n",
        "\n",
        "Os dados foram coletados do site **Kaggle**, não há descrições sobre os dados ou das colunas, mas são bem autoexplicativos."
      ],
      "metadata": {
        "id": "40IUNiDxQ1FY"
      }
    },
    {
      "cell_type": "code",
      "execution_count": null,
      "metadata": {
        "id": "wx3uzzISO_Qd"
      },
      "outputs": [],
      "source": [
        "# IMPORTANDO BIBLIOTECAS\n",
        "import pandas as pd\n",
        "import matplotlib.pyplot as plt\n",
        "import numpy as np\n",
        "import seaborn as sns\n",
        "\n",
        "!pip install scikit-plot -q\n",
        "!pip install imbalanced-learn -q"
      ]
    },
    {
      "cell_type": "code",
      "source": [
        "# CONFIGURANDO PARA VIZUALIZAR TODAS AS LINHAS E COLUNAS\n",
        "pd.set_option('display.max_rows', None)\n",
        "pd.set_option('display.max_columns', None)"
      ],
      "metadata": {
        "id": "HtAt-qliQ5og"
      },
      "execution_count": null,
      "outputs": []
    },
    {
      "cell_type": "code",
      "source": [
        "# ANALISANDO AS COLUNAS E AS PRIMEIRAS ENTRADAS\n",
        "df = pd.read_csv('https://raw.githubusercontent.com/carlosfab/dsnp2/master/datasets/WA_Fn-UseC_-Telco-Customer-Churn.csv')\n",
        "df[:5]"
      ],
      "metadata": {
        "colab": {
          "base_uri": "https://localhost:8080/",
          "height": 357
        },
        "id": "1bDbjNrgPYbh",
        "outputId": "a801b881-be18-4114-aba9-977eac79eb33"
      },
      "execution_count": null,
      "outputs": [
        {
          "output_type": "execute_result",
          "data": {
            "text/plain": [
              "   customerID  gender  SeniorCitizen Partner Dependents  tenure PhoneService  \\\n",
              "0  7590-VHVEG  Female              0     Yes         No       1           No   \n",
              "1  5575-GNVDE    Male              0      No         No      34          Yes   \n",
              "2  3668-QPYBK    Male              0      No         No       2          Yes   \n",
              "3  7795-CFOCW    Male              0      No         No      45           No   \n",
              "4  9237-HQITU  Female              0      No         No       2          Yes   \n",
              "\n",
              "      MultipleLines InternetService OnlineSecurity OnlineBackup  \\\n",
              "0  No phone service             DSL             No          Yes   \n",
              "1                No             DSL            Yes           No   \n",
              "2                No             DSL            Yes          Yes   \n",
              "3  No phone service             DSL            Yes           No   \n",
              "4                No     Fiber optic             No           No   \n",
              "\n",
              "  DeviceProtection TechSupport StreamingTV StreamingMovies        Contract  \\\n",
              "0               No          No          No              No  Month-to-month   \n",
              "1              Yes          No          No              No        One year   \n",
              "2               No          No          No              No  Month-to-month   \n",
              "3              Yes         Yes          No              No        One year   \n",
              "4               No          No          No              No  Month-to-month   \n",
              "\n",
              "  PaperlessBilling              PaymentMethod  MonthlyCharges TotalCharges  \\\n",
              "0              Yes           Electronic check           29.85        29.85   \n",
              "1               No               Mailed check           56.95       1889.5   \n",
              "2              Yes               Mailed check           53.85       108.15   \n",
              "3               No  Bank transfer (automatic)           42.30      1840.75   \n",
              "4              Yes           Electronic check           70.70       151.65   \n",
              "\n",
              "  Churn  \n",
              "0    No  \n",
              "1    No  \n",
              "2   Yes  \n",
              "3    No  \n",
              "4   Yes  "
            ],
            "text/html": [
              "\n",
              "  <div id=\"df-f2a268a8-d067-42df-b708-2c6b88974580\">\n",
              "    <div class=\"colab-df-container\">\n",
              "      <div>\n",
              "<style scoped>\n",
              "    .dataframe tbody tr th:only-of-type {\n",
              "        vertical-align: middle;\n",
              "    }\n",
              "\n",
              "    .dataframe tbody tr th {\n",
              "        vertical-align: top;\n",
              "    }\n",
              "\n",
              "    .dataframe thead th {\n",
              "        text-align: right;\n",
              "    }\n",
              "</style>\n",
              "<table border=\"1\" class=\"dataframe\">\n",
              "  <thead>\n",
              "    <tr style=\"text-align: right;\">\n",
              "      <th></th>\n",
              "      <th>customerID</th>\n",
              "      <th>gender</th>\n",
              "      <th>SeniorCitizen</th>\n",
              "      <th>Partner</th>\n",
              "      <th>Dependents</th>\n",
              "      <th>tenure</th>\n",
              "      <th>PhoneService</th>\n",
              "      <th>MultipleLines</th>\n",
              "      <th>InternetService</th>\n",
              "      <th>OnlineSecurity</th>\n",
              "      <th>OnlineBackup</th>\n",
              "      <th>DeviceProtection</th>\n",
              "      <th>TechSupport</th>\n",
              "      <th>StreamingTV</th>\n",
              "      <th>StreamingMovies</th>\n",
              "      <th>Contract</th>\n",
              "      <th>PaperlessBilling</th>\n",
              "      <th>PaymentMethod</th>\n",
              "      <th>MonthlyCharges</th>\n",
              "      <th>TotalCharges</th>\n",
              "      <th>Churn</th>\n",
              "    </tr>\n",
              "  </thead>\n",
              "  <tbody>\n",
              "    <tr>\n",
              "      <th>0</th>\n",
              "      <td>7590-VHVEG</td>\n",
              "      <td>Female</td>\n",
              "      <td>0</td>\n",
              "      <td>Yes</td>\n",
              "      <td>No</td>\n",
              "      <td>1</td>\n",
              "      <td>No</td>\n",
              "      <td>No phone service</td>\n",
              "      <td>DSL</td>\n",
              "      <td>No</td>\n",
              "      <td>Yes</td>\n",
              "      <td>No</td>\n",
              "      <td>No</td>\n",
              "      <td>No</td>\n",
              "      <td>No</td>\n",
              "      <td>Month-to-month</td>\n",
              "      <td>Yes</td>\n",
              "      <td>Electronic check</td>\n",
              "      <td>29.85</td>\n",
              "      <td>29.85</td>\n",
              "      <td>No</td>\n",
              "    </tr>\n",
              "    <tr>\n",
              "      <th>1</th>\n",
              "      <td>5575-GNVDE</td>\n",
              "      <td>Male</td>\n",
              "      <td>0</td>\n",
              "      <td>No</td>\n",
              "      <td>No</td>\n",
              "      <td>34</td>\n",
              "      <td>Yes</td>\n",
              "      <td>No</td>\n",
              "      <td>DSL</td>\n",
              "      <td>Yes</td>\n",
              "      <td>No</td>\n",
              "      <td>Yes</td>\n",
              "      <td>No</td>\n",
              "      <td>No</td>\n",
              "      <td>No</td>\n",
              "      <td>One year</td>\n",
              "      <td>No</td>\n",
              "      <td>Mailed check</td>\n",
              "      <td>56.95</td>\n",
              "      <td>1889.5</td>\n",
              "      <td>No</td>\n",
              "    </tr>\n",
              "    <tr>\n",
              "      <th>2</th>\n",
              "      <td>3668-QPYBK</td>\n",
              "      <td>Male</td>\n",
              "      <td>0</td>\n",
              "      <td>No</td>\n",
              "      <td>No</td>\n",
              "      <td>2</td>\n",
              "      <td>Yes</td>\n",
              "      <td>No</td>\n",
              "      <td>DSL</td>\n",
              "      <td>Yes</td>\n",
              "      <td>Yes</td>\n",
              "      <td>No</td>\n",
              "      <td>No</td>\n",
              "      <td>No</td>\n",
              "      <td>No</td>\n",
              "      <td>Month-to-month</td>\n",
              "      <td>Yes</td>\n",
              "      <td>Mailed check</td>\n",
              "      <td>53.85</td>\n",
              "      <td>108.15</td>\n",
              "      <td>Yes</td>\n",
              "    </tr>\n",
              "    <tr>\n",
              "      <th>3</th>\n",
              "      <td>7795-CFOCW</td>\n",
              "      <td>Male</td>\n",
              "      <td>0</td>\n",
              "      <td>No</td>\n",
              "      <td>No</td>\n",
              "      <td>45</td>\n",
              "      <td>No</td>\n",
              "      <td>No phone service</td>\n",
              "      <td>DSL</td>\n",
              "      <td>Yes</td>\n",
              "      <td>No</td>\n",
              "      <td>Yes</td>\n",
              "      <td>Yes</td>\n",
              "      <td>No</td>\n",
              "      <td>No</td>\n",
              "      <td>One year</td>\n",
              "      <td>No</td>\n",
              "      <td>Bank transfer (automatic)</td>\n",
              "      <td>42.30</td>\n",
              "      <td>1840.75</td>\n",
              "      <td>No</td>\n",
              "    </tr>\n",
              "    <tr>\n",
              "      <th>4</th>\n",
              "      <td>9237-HQITU</td>\n",
              "      <td>Female</td>\n",
              "      <td>0</td>\n",
              "      <td>No</td>\n",
              "      <td>No</td>\n",
              "      <td>2</td>\n",
              "      <td>Yes</td>\n",
              "      <td>No</td>\n",
              "      <td>Fiber optic</td>\n",
              "      <td>No</td>\n",
              "      <td>No</td>\n",
              "      <td>No</td>\n",
              "      <td>No</td>\n",
              "      <td>No</td>\n",
              "      <td>No</td>\n",
              "      <td>Month-to-month</td>\n",
              "      <td>Yes</td>\n",
              "      <td>Electronic check</td>\n",
              "      <td>70.70</td>\n",
              "      <td>151.65</td>\n",
              "      <td>Yes</td>\n",
              "    </tr>\n",
              "  </tbody>\n",
              "</table>\n",
              "</div>\n",
              "      <button class=\"colab-df-convert\" onclick=\"convertToInteractive('df-f2a268a8-d067-42df-b708-2c6b88974580')\"\n",
              "              title=\"Convert this dataframe to an interactive table.\"\n",
              "              style=\"display:none;\">\n",
              "        \n",
              "  <svg xmlns=\"http://www.w3.org/2000/svg\" height=\"24px\"viewBox=\"0 0 24 24\"\n",
              "       width=\"24px\">\n",
              "    <path d=\"M0 0h24v24H0V0z\" fill=\"none\"/>\n",
              "    <path d=\"M18.56 5.44l.94 2.06.94-2.06 2.06-.94-2.06-.94-.94-2.06-.94 2.06-2.06.94zm-11 1L8.5 8.5l.94-2.06 2.06-.94-2.06-.94L8.5 2.5l-.94 2.06-2.06.94zm10 10l.94 2.06.94-2.06 2.06-.94-2.06-.94-.94-2.06-.94 2.06-2.06.94z\"/><path d=\"M17.41 7.96l-1.37-1.37c-.4-.4-.92-.59-1.43-.59-.52 0-1.04.2-1.43.59L10.3 9.45l-7.72 7.72c-.78.78-.78 2.05 0 2.83L4 21.41c.39.39.9.59 1.41.59.51 0 1.02-.2 1.41-.59l7.78-7.78 2.81-2.81c.8-.78.8-2.07 0-2.86zM5.41 20L4 18.59l7.72-7.72 1.47 1.35L5.41 20z\"/>\n",
              "  </svg>\n",
              "      </button>\n",
              "      \n",
              "  <style>\n",
              "    .colab-df-container {\n",
              "      display:flex;\n",
              "      flex-wrap:wrap;\n",
              "      gap: 12px;\n",
              "    }\n",
              "\n",
              "    .colab-df-convert {\n",
              "      background-color: #E8F0FE;\n",
              "      border: none;\n",
              "      border-radius: 50%;\n",
              "      cursor: pointer;\n",
              "      display: none;\n",
              "      fill: #1967D2;\n",
              "      height: 32px;\n",
              "      padding: 0 0 0 0;\n",
              "      width: 32px;\n",
              "    }\n",
              "\n",
              "    .colab-df-convert:hover {\n",
              "      background-color: #E2EBFA;\n",
              "      box-shadow: 0px 1px 2px rgba(60, 64, 67, 0.3), 0px 1px 3px 1px rgba(60, 64, 67, 0.15);\n",
              "      fill: #174EA6;\n",
              "    }\n",
              "\n",
              "    [theme=dark] .colab-df-convert {\n",
              "      background-color: #3B4455;\n",
              "      fill: #D2E3FC;\n",
              "    }\n",
              "\n",
              "    [theme=dark] .colab-df-convert:hover {\n",
              "      background-color: #434B5C;\n",
              "      box-shadow: 0px 1px 3px 1px rgba(0, 0, 0, 0.15);\n",
              "      filter: drop-shadow(0px 1px 2px rgba(0, 0, 0, 0.3));\n",
              "      fill: #FFFFFF;\n",
              "    }\n",
              "  </style>\n",
              "\n",
              "      <script>\n",
              "        const buttonEl =\n",
              "          document.querySelector('#df-f2a268a8-d067-42df-b708-2c6b88974580 button.colab-df-convert');\n",
              "        buttonEl.style.display =\n",
              "          google.colab.kernel.accessAllowed ? 'block' : 'none';\n",
              "\n",
              "        async function convertToInteractive(key) {\n",
              "          const element = document.querySelector('#df-f2a268a8-d067-42df-b708-2c6b88974580');\n",
              "          const dataTable =\n",
              "            await google.colab.kernel.invokeFunction('convertToInteractive',\n",
              "                                                     [key], {});\n",
              "          if (!dataTable) return;\n",
              "\n",
              "          const docLinkHtml = 'Like what you see? Visit the ' +\n",
              "            '<a target=\"_blank\" href=https://colab.research.google.com/notebooks/data_table.ipynb>data table notebook</a>'\n",
              "            + ' to learn more about interactive tables.';\n",
              "          element.innerHTML = '';\n",
              "          dataTable['output_type'] = 'display_data';\n",
              "          await google.colab.output.renderOutput(dataTable, element);\n",
              "          const docLink = document.createElement('div');\n",
              "          docLink.innerHTML = docLinkHtml;\n",
              "          element.appendChild(docLink);\n",
              "        }\n",
              "      </script>\n",
              "    </div>\n",
              "  </div>\n",
              "  "
            ]
          },
          "metadata": {},
          "execution_count": 135
        }
      ]
    },
    {
      "cell_type": "code",
      "source": [
        "# VIZUALIANDO A QUANTIDADE DOS DADOS\n",
        "print('Colunas:\\t',df.shape[1])\n",
        "print('Entradas:\\t',df.shape[0])"
      ],
      "metadata": {
        "colab": {
          "base_uri": "https://localhost:8080/"
        },
        "id": "Lnf6J3zkRg93",
        "outputId": "b7cd0df4-3693-406d-8fc9-e1e086e88fdb"
      },
      "execution_count": null,
      "outputs": [
        {
          "output_type": "stream",
          "name": "stdout",
          "text": [
            "Colunas:\t 21\n",
            "Entradas:\t 7043\n"
          ]
        }
      ]
    },
    {
      "cell_type": "code",
      "source": [
        "df.columns.tolist()"
      ],
      "metadata": {
        "colab": {
          "base_uri": "https://localhost:8080/"
        },
        "id": "laqDwqwEPbX5",
        "outputId": "119ac74d-1f5f-4e12-e61b-c4cd1cd12d5e"
      },
      "execution_count": null,
      "outputs": [
        {
          "output_type": "execute_result",
          "data": {
            "text/plain": [
              "['customerID',\n",
              " 'gender',\n",
              " 'SeniorCitizen',\n",
              " 'Partner',\n",
              " 'Dependents',\n",
              " 'tenure',\n",
              " 'PhoneService',\n",
              " 'MultipleLines',\n",
              " 'InternetService',\n",
              " 'OnlineSecurity',\n",
              " 'OnlineBackup',\n",
              " 'DeviceProtection',\n",
              " 'TechSupport',\n",
              " 'StreamingTV',\n",
              " 'StreamingMovies',\n",
              " 'Contract',\n",
              " 'PaperlessBilling',\n",
              " 'PaymentMethod',\n",
              " 'MonthlyCharges',\n",
              " 'TotalCharges',\n",
              " 'Churn']"
            ]
          },
          "metadata": {},
          "execution_count": 137
        }
      ]
    },
    {
      "cell_type": "markdown",
      "source": [
        "### **Dicionário das colunas:**\n",
        "* **customerID:** Identificação do cliente.\n",
        "* **gender:** Gênero.\n",
        "* **SeniorCitizen:** Idoso(a).\n",
        "* **Partner:** Parceiro(a).\n",
        "* **Dependents:** Dependentes.\n",
        "* **tenure:** Posse.\n",
        "* **PhoneService:** Serviço de telefone.\n",
        "* **MultipleLines:** Múltiplas linhas.\n",
        "* **InternetService:** Serviço de internet.\n",
        "* **OnlineSecurity:** Segurança online.\n",
        "* **OnlineBackup:** Cópia de segurança online.\n",
        "* **DeviceProtection:** Proteção de disposição.\n",
        "* **TechSupport:** Suporte técnico.\n",
        "* **StreamingTV:** Serviço de Streaming.\n",
        "* **StreamingMovies:** Filmes de streaming.\n",
        "* **Contract:** Tempo de ontrato.\n",
        "* **PaperlessBilling:** Faturamento sem boleto.\n",
        "* **PaymentMethod:** Forma de pagamento.\n",
        "* **MonthlyCharges:** Cobranças mensais.\n",
        "* **TotalCharges:** Cobrança total.\n",
        "* **Churn:** Se o cliente cancelou ou não.\n"
      ],
      "metadata": {
        "id": "-Yo4-I6bScA-"
      }
    },
    {
      "cell_type": "markdown",
      "source": [
        "* Abaixo começo a fazer uma análise exploratória no dados, verificar se estão corretos, se estão faltando dados e tratar devidamente os erros."
      ],
      "metadata": {
        "id": "g7hCYdLANSpq"
      }
    },
    {
      "cell_type": "code",
      "source": [
        "# VERIFICANDO AS ENTRADAS NULAS\n",
        "df.isna().sum().sort_values(ascending=False)"
      ],
      "metadata": {
        "colab": {
          "base_uri": "https://localhost:8080/"
        },
        "id": "paTM9KX2SRIp",
        "outputId": "85915a8b-4751-4bf0-b84f-005a47ac6dae"
      },
      "execution_count": null,
      "outputs": [
        {
          "output_type": "execute_result",
          "data": {
            "text/plain": [
              "customerID          0\n",
              "DeviceProtection    0\n",
              "TotalCharges        0\n",
              "MonthlyCharges      0\n",
              "PaymentMethod       0\n",
              "PaperlessBilling    0\n",
              "Contract            0\n",
              "StreamingMovies     0\n",
              "StreamingTV         0\n",
              "TechSupport         0\n",
              "OnlineBackup        0\n",
              "gender              0\n",
              "OnlineSecurity      0\n",
              "InternetService     0\n",
              "MultipleLines       0\n",
              "PhoneService        0\n",
              "tenure              0\n",
              "Dependents          0\n",
              "Partner             0\n",
              "SeniorCitizen       0\n",
              "Churn               0\n",
              "dtype: int64"
            ]
          },
          "metadata": {},
          "execution_count": 138
        }
      ]
    },
    {
      "cell_type": "code",
      "source": [
        "# VERIFICANDO OS TIPOS DAS COLUNAS\n",
        "print(df.dtypes)\n",
        "df[:1]"
      ],
      "metadata": {
        "colab": {
          "base_uri": "https://localhost:8080/",
          "height": 544
        },
        "id": "zJegnKgEWBvH",
        "outputId": "9e545a04-52a4-41f3-f454-5a292c99ec0a"
      },
      "execution_count": null,
      "outputs": [
        {
          "output_type": "stream",
          "name": "stdout",
          "text": [
            "customerID           object\n",
            "gender               object\n",
            "SeniorCitizen         int64\n",
            "Partner              object\n",
            "Dependents           object\n",
            "tenure                int64\n",
            "PhoneService         object\n",
            "MultipleLines        object\n",
            "InternetService      object\n",
            "OnlineSecurity       object\n",
            "OnlineBackup         object\n",
            "DeviceProtection     object\n",
            "TechSupport          object\n",
            "StreamingTV          object\n",
            "StreamingMovies      object\n",
            "Contract             object\n",
            "PaperlessBilling     object\n",
            "PaymentMethod        object\n",
            "MonthlyCharges      float64\n",
            "TotalCharges         object\n",
            "Churn                object\n",
            "dtype: object\n"
          ]
        },
        {
          "output_type": "execute_result",
          "data": {
            "text/plain": [
              "   customerID  gender  SeniorCitizen Partner Dependents  tenure PhoneService  \\\n",
              "0  7590-VHVEG  Female              0     Yes         No       1           No   \n",
              "\n",
              "      MultipleLines InternetService OnlineSecurity OnlineBackup  \\\n",
              "0  No phone service             DSL             No          Yes   \n",
              "\n",
              "  DeviceProtection TechSupport StreamingTV StreamingMovies        Contract  \\\n",
              "0               No          No          No              No  Month-to-month   \n",
              "\n",
              "  PaperlessBilling     PaymentMethod  MonthlyCharges TotalCharges Churn  \n",
              "0              Yes  Electronic check           29.85        29.85    No  "
            ],
            "text/html": [
              "\n",
              "  <div id=\"df-6b9463e1-7547-4eaa-b9dc-5ae39dc8d7d5\">\n",
              "    <div class=\"colab-df-container\">\n",
              "      <div>\n",
              "<style scoped>\n",
              "    .dataframe tbody tr th:only-of-type {\n",
              "        vertical-align: middle;\n",
              "    }\n",
              "\n",
              "    .dataframe tbody tr th {\n",
              "        vertical-align: top;\n",
              "    }\n",
              "\n",
              "    .dataframe thead th {\n",
              "        text-align: right;\n",
              "    }\n",
              "</style>\n",
              "<table border=\"1\" class=\"dataframe\">\n",
              "  <thead>\n",
              "    <tr style=\"text-align: right;\">\n",
              "      <th></th>\n",
              "      <th>customerID</th>\n",
              "      <th>gender</th>\n",
              "      <th>SeniorCitizen</th>\n",
              "      <th>Partner</th>\n",
              "      <th>Dependents</th>\n",
              "      <th>tenure</th>\n",
              "      <th>PhoneService</th>\n",
              "      <th>MultipleLines</th>\n",
              "      <th>InternetService</th>\n",
              "      <th>OnlineSecurity</th>\n",
              "      <th>OnlineBackup</th>\n",
              "      <th>DeviceProtection</th>\n",
              "      <th>TechSupport</th>\n",
              "      <th>StreamingTV</th>\n",
              "      <th>StreamingMovies</th>\n",
              "      <th>Contract</th>\n",
              "      <th>PaperlessBilling</th>\n",
              "      <th>PaymentMethod</th>\n",
              "      <th>MonthlyCharges</th>\n",
              "      <th>TotalCharges</th>\n",
              "      <th>Churn</th>\n",
              "    </tr>\n",
              "  </thead>\n",
              "  <tbody>\n",
              "    <tr>\n",
              "      <th>0</th>\n",
              "      <td>7590-VHVEG</td>\n",
              "      <td>Female</td>\n",
              "      <td>0</td>\n",
              "      <td>Yes</td>\n",
              "      <td>No</td>\n",
              "      <td>1</td>\n",
              "      <td>No</td>\n",
              "      <td>No phone service</td>\n",
              "      <td>DSL</td>\n",
              "      <td>No</td>\n",
              "      <td>Yes</td>\n",
              "      <td>No</td>\n",
              "      <td>No</td>\n",
              "      <td>No</td>\n",
              "      <td>No</td>\n",
              "      <td>Month-to-month</td>\n",
              "      <td>Yes</td>\n",
              "      <td>Electronic check</td>\n",
              "      <td>29.85</td>\n",
              "      <td>29.85</td>\n",
              "      <td>No</td>\n",
              "    </tr>\n",
              "  </tbody>\n",
              "</table>\n",
              "</div>\n",
              "      <button class=\"colab-df-convert\" onclick=\"convertToInteractive('df-6b9463e1-7547-4eaa-b9dc-5ae39dc8d7d5')\"\n",
              "              title=\"Convert this dataframe to an interactive table.\"\n",
              "              style=\"display:none;\">\n",
              "        \n",
              "  <svg xmlns=\"http://www.w3.org/2000/svg\" height=\"24px\"viewBox=\"0 0 24 24\"\n",
              "       width=\"24px\">\n",
              "    <path d=\"M0 0h24v24H0V0z\" fill=\"none\"/>\n",
              "    <path d=\"M18.56 5.44l.94 2.06.94-2.06 2.06-.94-2.06-.94-.94-2.06-.94 2.06-2.06.94zm-11 1L8.5 8.5l.94-2.06 2.06-.94-2.06-.94L8.5 2.5l-.94 2.06-2.06.94zm10 10l.94 2.06.94-2.06 2.06-.94-2.06-.94-.94-2.06-.94 2.06-2.06.94z\"/><path d=\"M17.41 7.96l-1.37-1.37c-.4-.4-.92-.59-1.43-.59-.52 0-1.04.2-1.43.59L10.3 9.45l-7.72 7.72c-.78.78-.78 2.05 0 2.83L4 21.41c.39.39.9.59 1.41.59.51 0 1.02-.2 1.41-.59l7.78-7.78 2.81-2.81c.8-.78.8-2.07 0-2.86zM5.41 20L4 18.59l7.72-7.72 1.47 1.35L5.41 20z\"/>\n",
              "  </svg>\n",
              "      </button>\n",
              "      \n",
              "  <style>\n",
              "    .colab-df-container {\n",
              "      display:flex;\n",
              "      flex-wrap:wrap;\n",
              "      gap: 12px;\n",
              "    }\n",
              "\n",
              "    .colab-df-convert {\n",
              "      background-color: #E8F0FE;\n",
              "      border: none;\n",
              "      border-radius: 50%;\n",
              "      cursor: pointer;\n",
              "      display: none;\n",
              "      fill: #1967D2;\n",
              "      height: 32px;\n",
              "      padding: 0 0 0 0;\n",
              "      width: 32px;\n",
              "    }\n",
              "\n",
              "    .colab-df-convert:hover {\n",
              "      background-color: #E2EBFA;\n",
              "      box-shadow: 0px 1px 2px rgba(60, 64, 67, 0.3), 0px 1px 3px 1px rgba(60, 64, 67, 0.15);\n",
              "      fill: #174EA6;\n",
              "    }\n",
              "\n",
              "    [theme=dark] .colab-df-convert {\n",
              "      background-color: #3B4455;\n",
              "      fill: #D2E3FC;\n",
              "    }\n",
              "\n",
              "    [theme=dark] .colab-df-convert:hover {\n",
              "      background-color: #434B5C;\n",
              "      box-shadow: 0px 1px 3px 1px rgba(0, 0, 0, 0.15);\n",
              "      filter: drop-shadow(0px 1px 2px rgba(0, 0, 0, 0.3));\n",
              "      fill: #FFFFFF;\n",
              "    }\n",
              "  </style>\n",
              "\n",
              "      <script>\n",
              "        const buttonEl =\n",
              "          document.querySelector('#df-6b9463e1-7547-4eaa-b9dc-5ae39dc8d7d5 button.colab-df-convert');\n",
              "        buttonEl.style.display =\n",
              "          google.colab.kernel.accessAllowed ? 'block' : 'none';\n",
              "\n",
              "        async function convertToInteractive(key) {\n",
              "          const element = document.querySelector('#df-6b9463e1-7547-4eaa-b9dc-5ae39dc8d7d5');\n",
              "          const dataTable =\n",
              "            await google.colab.kernel.invokeFunction('convertToInteractive',\n",
              "                                                     [key], {});\n",
              "          if (!dataTable) return;\n",
              "\n",
              "          const docLinkHtml = 'Like what you see? Visit the ' +\n",
              "            '<a target=\"_blank\" href=https://colab.research.google.com/notebooks/data_table.ipynb>data table notebook</a>'\n",
              "            + ' to learn more about interactive tables.';\n",
              "          element.innerHTML = '';\n",
              "          dataTable['output_type'] = 'display_data';\n",
              "          await google.colab.output.renderOutput(dataTable, element);\n",
              "          const docLink = document.createElement('div');\n",
              "          docLink.innerHTML = docLinkHtml;\n",
              "          element.appendChild(docLink);\n",
              "        }\n",
              "      </script>\n",
              "    </div>\n",
              "  </div>\n",
              "  "
            ]
          },
          "metadata": {},
          "execution_count": 139
        }
      ]
    },
    {
      "cell_type": "markdown",
      "source": [
        "* A coluna **TotalCharges** é uma coluna númerica porém está classificada como `object`, vou investigar o porque e corrigir para `float`"
      ],
      "metadata": {
        "id": "GWZAv7tEW6mX"
      }
    },
    {
      "cell_type": "code",
      "source": [
        "# VERIFICANDO OS VALORES UNICOS NA COLUNA TotalCharges\n",
        "df['TotalCharges'].value_counts()[:5]"
      ],
      "metadata": {
        "colab": {
          "base_uri": "https://localhost:8080/"
        },
        "id": "QoiH-EAbWXCv",
        "outputId": "09d92c37-d234-41ff-d509-253f051ccb31"
      },
      "execution_count": null,
      "outputs": [
        {
          "output_type": "execute_result",
          "data": {
            "text/plain": [
              "         11\n",
              "20.2     11\n",
              "19.75     9\n",
              "20.05     8\n",
              "19.9      8\n",
              "Name: TotalCharges, dtype: int64"
            ]
          },
          "metadata": {},
          "execution_count": 140
        }
      ]
    },
    {
      "cell_type": "code",
      "source": [
        "# CONSEGUIMOS IDENTIFICAR QUE HÁ ENTRADAS QUE ESTÃO PREENCHIDAS COM ESPAÇO\n",
        "print(round(df[df['TotalCharges'] == ' '].shape[0] / df.shape[0]*100,2))\n",
        "\n",
        "# DROPANDO AS ENTRADAS\n",
        "df = df.drop(df[df['TotalCharges'] == ' '].index)\n",
        "df = df.reset_index(drop=True)"
      ],
      "metadata": {
        "id": "KkdLGVvYXZrf",
        "colab": {
          "base_uri": "https://localhost:8080/"
        },
        "outputId": "7ca26d22-7abb-4c6c-aa5c-aa9d27502879"
      },
      "execution_count": null,
      "outputs": [
        {
          "output_type": "stream",
          "name": "stdout",
          "text": [
            "0.16\n"
          ]
        }
      ]
    },
    {
      "cell_type": "markdown",
      "source": [
        "Como as entradas vazias representam apenas 0,16% dos dados eu excluí ao invés de tratar, caso fosse um valor superior a 2% eu iria preencher os valores fazendo os calculos com a coluna `Contract` e `MonthlyCharges`."
      ],
      "metadata": {
        "id": "ugN5DaYdZipO"
      }
    },
    {
      "cell_type": "code",
      "source": [
        "# TRANSFORMANDO A COLUNA TOTALCHARGES PARA O TIPO CORRETO\n",
        "print('Antes:\\t',df['TotalCharges'].dtype)\n",
        "df['TotalCharges'] = df['TotalCharges'].astype('float')\n",
        "print('Depois:\\t',df['TotalCharges'].dtype)"
      ],
      "metadata": {
        "colab": {
          "base_uri": "https://localhost:8080/"
        },
        "id": "wK29TjhKaMUH",
        "outputId": "bd1155d8-3d44-4e93-e179-7dfa93f6967d"
      },
      "execution_count": null,
      "outputs": [
        {
          "output_type": "stream",
          "name": "stdout",
          "text": [
            "Antes:\t object\n",
            "Depois:\t float64\n"
          ]
        }
      ]
    },
    {
      "cell_type": "markdown",
      "source": [
        "* Agora com as colunas com o tipo correto e as entradas todas preenchidas vou verificar os valores únicos em cada coluna para entender melhor esse DataFrame."
      ],
      "metadata": {
        "id": "6r0Z4abJbor1"
      }
    },
    {
      "cell_type": "code",
      "source": [
        "# VERIFICANDO QUANTOS VALORES ÚNICOS M CADA COLUNA OBJECT\n",
        "print(df.select_dtypes('object').nunique().sort_values(ascending=False))"
      ],
      "metadata": {
        "colab": {
          "base_uri": "https://localhost:8080/"
        },
        "id": "L24I9E2jc2Z-",
        "outputId": "e9b0c5fd-fb71-44f0-85ea-dfd8942eae33"
      },
      "execution_count": null,
      "outputs": [
        {
          "output_type": "stream",
          "name": "stdout",
          "text": [
            "customerID          7032\n",
            "PaymentMethod          4\n",
            "DeviceProtection       3\n",
            "Contract               3\n",
            "StreamingMovies        3\n",
            "StreamingTV            3\n",
            "TechSupport            3\n",
            "OnlineBackup           3\n",
            "OnlineSecurity         3\n",
            "InternetService        3\n",
            "MultipleLines          3\n",
            "gender                 2\n",
            "PhoneService           2\n",
            "Dependents             2\n",
            "PaperlessBilling       2\n",
            "Partner                2\n",
            "Churn                  2\n",
            "dtype: int64\n"
          ]
        }
      ]
    },
    {
      "cell_type": "markdown",
      "source": [
        "* Como é notavel, a coluna `customerID` é somente para identificação e não será necessária manter ela no DataFrame, ela mais acaba atrapalhando do que ajudando."
      ],
      "metadata": {
        "id": "ek3owYr5fkVM"
      }
    },
    {
      "cell_type": "code",
      "source": [
        "# DROPANDO A COLUNA CUSTOMERID\n",
        "df = df.drop('customerID', axis=1)"
      ],
      "metadata": {
        "id": "ZKvxZA9wfvo1"
      },
      "execution_count": null,
      "outputs": []
    },
    {
      "cell_type": "code",
      "source": [
        "# VERIFICANDO OS VALORES ÚNICOS\n",
        "print('Valores:',np.unique(df.select_dtypes('object').values).shape[0])\n",
        "print(np.unique(df.select_dtypes('object').values).tolist())"
      ],
      "metadata": {
        "colab": {
          "base_uri": "https://localhost:8080/"
        },
        "id": "uWMFb7RYfaw2",
        "outputId": "eb2a5587-e481-486a-f33e-44454e18ddd5"
      },
      "execution_count": null,
      "outputs": [
        {
          "output_type": "stream",
          "name": "stdout",
          "text": [
            "Valores: 15\n",
            "['Bank transfer (automatic)', 'Credit card (automatic)', 'DSL', 'Electronic check', 'Female', 'Fiber optic', 'Mailed check', 'Male', 'Month-to-month', 'No', 'No internet service', 'No phone service', 'One year', 'Two year', 'Yes']\n"
          ]
        }
      ]
    },
    {
      "cell_type": "code",
      "source": [
        "# VERIFICANDO AS VALORES NUMÉRICOS\n",
        "round(df.select_dtypes(['float','int']).describe(),2)"
      ],
      "metadata": {
        "colab": {
          "base_uri": "https://localhost:8080/",
          "height": 300
        },
        "id": "MB84RXhidk4W",
        "outputId": "f8df5d33-27a8-48e3-c6c5-fbdfc0ca876d"
      },
      "execution_count": null,
      "outputs": [
        {
          "output_type": "execute_result",
          "data": {
            "text/plain": [
              "       SeniorCitizen   tenure  MonthlyCharges  TotalCharges\n",
              "count        7032.00  7032.00         7032.00       7032.00\n",
              "mean            0.16    32.42           64.80       2283.30\n",
              "std             0.37    24.55           30.09       2266.77\n",
              "min             0.00     1.00           18.25         18.80\n",
              "25%             0.00     9.00           35.59        401.45\n",
              "50%             0.00    29.00           70.35       1397.48\n",
              "75%             0.00    55.00           89.86       3794.74\n",
              "max             1.00    72.00          118.75       8684.80"
            ],
            "text/html": [
              "\n",
              "  <div id=\"df-0b5ed5db-cf02-4392-83b1-6792579afe39\">\n",
              "    <div class=\"colab-df-container\">\n",
              "      <div>\n",
              "<style scoped>\n",
              "    .dataframe tbody tr th:only-of-type {\n",
              "        vertical-align: middle;\n",
              "    }\n",
              "\n",
              "    .dataframe tbody tr th {\n",
              "        vertical-align: top;\n",
              "    }\n",
              "\n",
              "    .dataframe thead th {\n",
              "        text-align: right;\n",
              "    }\n",
              "</style>\n",
              "<table border=\"1\" class=\"dataframe\">\n",
              "  <thead>\n",
              "    <tr style=\"text-align: right;\">\n",
              "      <th></th>\n",
              "      <th>SeniorCitizen</th>\n",
              "      <th>tenure</th>\n",
              "      <th>MonthlyCharges</th>\n",
              "      <th>TotalCharges</th>\n",
              "    </tr>\n",
              "  </thead>\n",
              "  <tbody>\n",
              "    <tr>\n",
              "      <th>count</th>\n",
              "      <td>7032.00</td>\n",
              "      <td>7032.00</td>\n",
              "      <td>7032.00</td>\n",
              "      <td>7032.00</td>\n",
              "    </tr>\n",
              "    <tr>\n",
              "      <th>mean</th>\n",
              "      <td>0.16</td>\n",
              "      <td>32.42</td>\n",
              "      <td>64.80</td>\n",
              "      <td>2283.30</td>\n",
              "    </tr>\n",
              "    <tr>\n",
              "      <th>std</th>\n",
              "      <td>0.37</td>\n",
              "      <td>24.55</td>\n",
              "      <td>30.09</td>\n",
              "      <td>2266.77</td>\n",
              "    </tr>\n",
              "    <tr>\n",
              "      <th>min</th>\n",
              "      <td>0.00</td>\n",
              "      <td>1.00</td>\n",
              "      <td>18.25</td>\n",
              "      <td>18.80</td>\n",
              "    </tr>\n",
              "    <tr>\n",
              "      <th>25%</th>\n",
              "      <td>0.00</td>\n",
              "      <td>9.00</td>\n",
              "      <td>35.59</td>\n",
              "      <td>401.45</td>\n",
              "    </tr>\n",
              "    <tr>\n",
              "      <th>50%</th>\n",
              "      <td>0.00</td>\n",
              "      <td>29.00</td>\n",
              "      <td>70.35</td>\n",
              "      <td>1397.48</td>\n",
              "    </tr>\n",
              "    <tr>\n",
              "      <th>75%</th>\n",
              "      <td>0.00</td>\n",
              "      <td>55.00</td>\n",
              "      <td>89.86</td>\n",
              "      <td>3794.74</td>\n",
              "    </tr>\n",
              "    <tr>\n",
              "      <th>max</th>\n",
              "      <td>1.00</td>\n",
              "      <td>72.00</td>\n",
              "      <td>118.75</td>\n",
              "      <td>8684.80</td>\n",
              "    </tr>\n",
              "  </tbody>\n",
              "</table>\n",
              "</div>\n",
              "      <button class=\"colab-df-convert\" onclick=\"convertToInteractive('df-0b5ed5db-cf02-4392-83b1-6792579afe39')\"\n",
              "              title=\"Convert this dataframe to an interactive table.\"\n",
              "              style=\"display:none;\">\n",
              "        \n",
              "  <svg xmlns=\"http://www.w3.org/2000/svg\" height=\"24px\"viewBox=\"0 0 24 24\"\n",
              "       width=\"24px\">\n",
              "    <path d=\"M0 0h24v24H0V0z\" fill=\"none\"/>\n",
              "    <path d=\"M18.56 5.44l.94 2.06.94-2.06 2.06-.94-2.06-.94-.94-2.06-.94 2.06-2.06.94zm-11 1L8.5 8.5l.94-2.06 2.06-.94-2.06-.94L8.5 2.5l-.94 2.06-2.06.94zm10 10l.94 2.06.94-2.06 2.06-.94-2.06-.94-.94-2.06-.94 2.06-2.06.94z\"/><path d=\"M17.41 7.96l-1.37-1.37c-.4-.4-.92-.59-1.43-.59-.52 0-1.04.2-1.43.59L10.3 9.45l-7.72 7.72c-.78.78-.78 2.05 0 2.83L4 21.41c.39.39.9.59 1.41.59.51 0 1.02-.2 1.41-.59l7.78-7.78 2.81-2.81c.8-.78.8-2.07 0-2.86zM5.41 20L4 18.59l7.72-7.72 1.47 1.35L5.41 20z\"/>\n",
              "  </svg>\n",
              "      </button>\n",
              "      \n",
              "  <style>\n",
              "    .colab-df-container {\n",
              "      display:flex;\n",
              "      flex-wrap:wrap;\n",
              "      gap: 12px;\n",
              "    }\n",
              "\n",
              "    .colab-df-convert {\n",
              "      background-color: #E8F0FE;\n",
              "      border: none;\n",
              "      border-radius: 50%;\n",
              "      cursor: pointer;\n",
              "      display: none;\n",
              "      fill: #1967D2;\n",
              "      height: 32px;\n",
              "      padding: 0 0 0 0;\n",
              "      width: 32px;\n",
              "    }\n",
              "\n",
              "    .colab-df-convert:hover {\n",
              "      background-color: #E2EBFA;\n",
              "      box-shadow: 0px 1px 2px rgba(60, 64, 67, 0.3), 0px 1px 3px 1px rgba(60, 64, 67, 0.15);\n",
              "      fill: #174EA6;\n",
              "    }\n",
              "\n",
              "    [theme=dark] .colab-df-convert {\n",
              "      background-color: #3B4455;\n",
              "      fill: #D2E3FC;\n",
              "    }\n",
              "\n",
              "    [theme=dark] .colab-df-convert:hover {\n",
              "      background-color: #434B5C;\n",
              "      box-shadow: 0px 1px 3px 1px rgba(0, 0, 0, 0.15);\n",
              "      filter: drop-shadow(0px 1px 2px rgba(0, 0, 0, 0.3));\n",
              "      fill: #FFFFFF;\n",
              "    }\n",
              "  </style>\n",
              "\n",
              "      <script>\n",
              "        const buttonEl =\n",
              "          document.querySelector('#df-0b5ed5db-cf02-4392-83b1-6792579afe39 button.colab-df-convert');\n",
              "        buttonEl.style.display =\n",
              "          google.colab.kernel.accessAllowed ? 'block' : 'none';\n",
              "\n",
              "        async function convertToInteractive(key) {\n",
              "          const element = document.querySelector('#df-0b5ed5db-cf02-4392-83b1-6792579afe39');\n",
              "          const dataTable =\n",
              "            await google.colab.kernel.invokeFunction('convertToInteractive',\n",
              "                                                     [key], {});\n",
              "          if (!dataTable) return;\n",
              "\n",
              "          const docLinkHtml = 'Like what you see? Visit the ' +\n",
              "            '<a target=\"_blank\" href=https://colab.research.google.com/notebooks/data_table.ipynb>data table notebook</a>'\n",
              "            + ' to learn more about interactive tables.';\n",
              "          element.innerHTML = '';\n",
              "          dataTable['output_type'] = 'display_data';\n",
              "          await google.colab.output.renderOutput(dataTable, element);\n",
              "          const docLink = document.createElement('div');\n",
              "          docLink.innerHTML = docLinkHtml;\n",
              "          element.appendChild(docLink);\n",
              "        }\n",
              "      </script>\n",
              "    </div>\n",
              "  </div>\n",
              "  "
            ]
          },
          "metadata": {},
          "execution_count": 146
        }
      ]
    },
    {
      "cell_type": "markdown",
      "source": [
        "* ↑ A coluna `SeniorCitizen` se trata de um sim ou não, a coluna `Tenure` pelo que parece se trata de tempo de contrato e as colunas de `Charges` se tratam de preços."
      ],
      "metadata": {
        "id": "SNaKBbE8i_o1"
      }
    },
    {
      "cell_type": "code",
      "source": [
        "# VERIFICANDO DISTRIBUIÇÃO DA COLUNA SENIORCITIZEN\n",
        "fig, ax = plt.subplots(figsize=(5,3))\n",
        "\n",
        "sns.countplot(x='SeniorCitizen', data=df, ax=ax);"
      ],
      "metadata": {
        "colab": {
          "base_uri": "https://localhost:8080/",
          "height": 311
        },
        "id": "WF8QXlv7h0eu",
        "outputId": "0e20c651-d240-4d5d-c532-54929e8b2e45"
      },
      "execution_count": null,
      "outputs": [
        {
          "output_type": "display_data",
          "data": {
            "text/plain": [
              "<Figure size 500x300 with 1 Axes>"
            ],
            "image/png": "[encoded data removed]"
          },
          "metadata": {}
        }
      ]
    },
    {
      "cell_type": "code",
      "source": [
        "# VERIFICANDO DISTRUBUIÇÃO DA COLUNA TENURE\n",
        "fig, ax = plt.subplots(figsize=(15,3))\n",
        "\n",
        "sns.countplot(x='tenure', data=df);\n",
        "ax.spines[['top','right']].set_visible(False)"
      ],
      "metadata": {
        "colab": {
          "base_uri": "https://localhost:8080/",
          "height": 311
        },
        "id": "vxzGqVYKjv3-",
        "outputId": "ce5be80a-fb72-4c60-cc7a-e1a6a83be7e0"
      },
      "execution_count": null,
      "outputs": [
        {
          "output_type": "display_data",
          "data": {
            "text/plain": [
              "<Figure size 1500x300 with 1 Axes>"
            ],
            "image/png": "[encoded data removed]"
          },
          "metadata": {}
        }
      ]
    },
    {
      "cell_type": "code",
      "source": [
        "# CONFIRMAÇÃO SE A COLUNA TENURE ESTÁ COMO MÊS\n",
        "dftenure = df[['tenure','Contract','MonthlyCharges','TotalCharges']][:10]\n",
        "dftenure['TesteTenure'] = round(dftenure['TotalCharges'] / dftenure['tenure'],2)\n",
        "dftenure"
      ],
      "metadata": {
        "colab": {
          "base_uri": "https://localhost:8080/",
          "height": 363
        },
        "id": "Umma5RMkk60O",
        "outputId": "81ba9994-38ff-4c12-b7bc-a50cfdae611e"
      },
      "execution_count": null,
      "outputs": [
        {
          "output_type": "execute_result",
          "data": {
            "text/plain": [
              "   tenure        Contract  MonthlyCharges  TotalCharges  TesteTenure\n",
              "0       1  Month-to-month           29.85         29.85        29.85\n",
              "1      34        One year           56.95       1889.50        55.57\n",
              "2       2  Month-to-month           53.85        108.15        54.08\n",
              "3      45        One year           42.30       1840.75        40.91\n",
              "4       2  Month-to-month           70.70        151.65        75.82\n",
              "5       8  Month-to-month           99.65        820.50       102.56\n",
              "6      22  Month-to-month           89.10       1949.40        88.61\n",
              "7      10  Month-to-month           29.75        301.90        30.19\n",
              "8      28  Month-to-month          104.80       3046.05       108.79\n",
              "9      62        One year           56.15       3487.95        56.26"
            ],
            "text/html": [
              "\n",
              "  <div id=\"df-55651c29-0049-488c-8bc4-209a55947929\">\n",
              "    <div class=\"colab-df-container\">\n",
              "      <div>\n",
              "<style scoped>\n",
              "    .dataframe tbody tr th:only-of-type {\n",
              "        vertical-align: middle;\n",
              "    }\n",
              "\n",
              "    .dataframe tbody tr th {\n",
              "        vertical-align: top;\n",
              "    }\n",
              "\n",
              "    .dataframe thead th {\n",
              "        text-align: right;\n",
              "    }\n",
              "</style>\n",
              "<table border=\"1\" class=\"dataframe\">\n",
              "  <thead>\n",
              "    <tr style=\"text-align: right;\">\n",
              "      <th></th>\n",
              "      <th>tenure</th>\n",
              "      <th>Contract</th>\n",
              "      <th>MonthlyCharges</th>\n",
              "      <th>TotalCharges</th>\n",
              "      <th>TesteTenure</th>\n",
              "    </tr>\n",
              "  </thead>\n",
              "  <tbody>\n",
              "    <tr>\n",
              "      <th>0</th>\n",
              "      <td>1</td>\n",
              "      <td>Month-to-month</td>\n",
              "      <td>29.85</td>\n",
              "      <td>29.85</td>\n",
              "      <td>29.85</td>\n",
              "    </tr>\n",
              "    <tr>\n",
              "      <th>1</th>\n",
              "      <td>34</td>\n",
              "      <td>One year</td>\n",
              "      <td>56.95</td>\n",
              "      <td>1889.50</td>\n",
              "      <td>55.57</td>\n",
              "    </tr>\n",
              "    <tr>\n",
              "      <th>2</th>\n",
              "      <td>2</td>\n",
              "      <td>Month-to-month</td>\n",
              "      <td>53.85</td>\n",
              "      <td>108.15</td>\n",
              "      <td>54.08</td>\n",
              "    </tr>\n",
              "    <tr>\n",
              "      <th>3</th>\n",
              "      <td>45</td>\n",
              "      <td>One year</td>\n",
              "      <td>42.30</td>\n",
              "      <td>1840.75</td>\n",
              "      <td>40.91</td>\n",
              "    </tr>\n",
              "    <tr>\n",
              "      <th>4</th>\n",
              "      <td>2</td>\n",
              "      <td>Month-to-month</td>\n",
              "      <td>70.70</td>\n",
              "      <td>151.65</td>\n",
              "      <td>75.82</td>\n",
              "    </tr>\n",
              "    <tr>\n",
              "      <th>5</th>\n",
              "      <td>8</td>\n",
              "      <td>Month-to-month</td>\n",
              "      <td>99.65</td>\n",
              "      <td>820.50</td>\n",
              "      <td>102.56</td>\n",
              "    </tr>\n",
              "    <tr>\n",
              "      <th>6</th>\n",
              "      <td>22</td>\n",
              "      <td>Month-to-month</td>\n",
              "      <td>89.10</td>\n",
              "      <td>1949.40</td>\n",
              "      <td>88.61</td>\n",
              "    </tr>\n",
              "    <tr>\n",
              "      <th>7</th>\n",
              "      <td>10</td>\n",
              "      <td>Month-to-month</td>\n",
              "      <td>29.75</td>\n",
              "      <td>301.90</td>\n",
              "      <td>30.19</td>\n",
              "    </tr>\n",
              "    <tr>\n",
              "      <th>8</th>\n",
              "      <td>28</td>\n",
              "      <td>Month-to-month</td>\n",
              "      <td>104.80</td>\n",
              "      <td>3046.05</td>\n",
              "      <td>108.79</td>\n",
              "    </tr>\n",
              "    <tr>\n",
              "      <th>9</th>\n",
              "      <td>62</td>\n",
              "      <td>One year</td>\n",
              "      <td>56.15</td>\n",
              "      <td>3487.95</td>\n",
              "      <td>56.26</td>\n",
              "    </tr>\n",
              "  </tbody>\n",
              "</table>\n",
              "</div>\n",
              "      <button class=\"colab-df-convert\" onclick=\"convertToInteractive('df-55651c29-0049-488c-8bc4-209a55947929')\"\n",
              "              title=\"Convert this dataframe to an interactive table.\"\n",
              "              style=\"display:none;\">\n",
              "        \n",
              "  <svg xmlns=\"http://www.w3.org/2000/svg\" height=\"24px\"viewBox=\"0 0 24 24\"\n",
              "       width=\"24px\">\n",
              "    <path d=\"M0 0h24v24H0V0z\" fill=\"none\"/>\n",
              "    <path d=\"M18.56 5.44l.94 2.06.94-2.06 2.06-.94-2.06-.94-.94-2.06-.94 2.06-2.06.94zm-11 1L8.5 8.5l.94-2.06 2.06-.94-2.06-.94L8.5 2.5l-.94 2.06-2.06.94zm10 10l.94 2.06.94-2.06 2.06-.94-2.06-.94-.94-2.06-.94 2.06-2.06.94z\"/><path d=\"M17.41 7.96l-1.37-1.37c-.4-.4-.92-.59-1.43-.59-.52 0-1.04.2-1.43.59L10.3 9.45l-7.72 7.72c-.78.78-.78 2.05 0 2.83L4 21.41c.39.39.9.59 1.41.59.51 0 1.02-.2 1.41-.59l7.78-7.78 2.81-2.81c.8-.78.8-2.07 0-2.86zM5.41 20L4 18.59l7.72-7.72 1.47 1.35L5.41 20z\"/>\n",
              "  </svg>\n",
              "      </button>\n",
              "      \n",
              "  <style>\n",
              "    .colab-df-container {\n",
              "      display:flex;\n",
              "      flex-wrap:wrap;\n",
              "      gap: 12px;\n",
              "    }\n",
              "\n",
              "    .colab-df-convert {\n",
              "      background-color: #E8F0FE;\n",
              "      border: none;\n",
              "      border-radius: 50%;\n",
              "      cursor: pointer;\n",
              "      display: none;\n",
              "      fill: #1967D2;\n",
              "      height: 32px;\n",
              "      padding: 0 0 0 0;\n",
              "      width: 32px;\n",
              "    }\n",
              "\n",
              "    .colab-df-convert:hover {\n",
              "      background-color: #E2EBFA;\n",
              "      box-shadow: 0px 1px 2px rgba(60, 64, 67, 0.3), 0px 1px 3px 1px rgba(60, 64, 67, 0.15);\n",
              "      fill: #174EA6;\n",
              "    }\n",
              "\n",
              "    [theme=dark] .colab-df-convert {\n",
              "      background-color: #3B4455;\n",
              "      fill: #D2E3FC;\n",
              "    }\n",
              "\n",
              "    [theme=dark] .colab-df-convert:hover {\n",
              "      background-color: #434B5C;\n",
              "      box-shadow: 0px 1px 3px 1px rgba(0, 0, 0, 0.15);\n",
              "      filter: drop-shadow(0px 1px 2px rgba(0, 0, 0, 0.3));\n",
              "      fill: #FFFFFF;\n",
              "    }\n",
              "  </style>\n",
              "\n",
              "      <script>\n",
              "        const buttonEl =\n",
              "          document.querySelector('#df-55651c29-0049-488c-8bc4-209a55947929 button.colab-df-convert');\n",
              "        buttonEl.style.display =\n",
              "          google.colab.kernel.accessAllowed ? 'block' : 'none';\n",
              "\n",
              "        async function convertToInteractive(key) {\n",
              "          const element = document.querySelector('#df-55651c29-0049-488c-8bc4-209a55947929');\n",
              "          const dataTable =\n",
              "            await google.colab.kernel.invokeFunction('convertToInteractive',\n",
              "                                                     [key], {});\n",
              "          if (!dataTable) return;\n",
              "\n",
              "          const docLinkHtml = 'Like what you see? Visit the ' +\n",
              "            '<a target=\"_blank\" href=https://colab.research.google.com/notebooks/data_table.ipynb>data table notebook</a>'\n",
              "            + ' to learn more about interactive tables.';\n",
              "          element.innerHTML = '';\n",
              "          dataTable['output_type'] = 'display_data';\n",
              "          await google.colab.output.renderOutput(dataTable, element);\n",
              "          const docLink = document.createElement('div');\n",
              "          docLink.innerHTML = docLinkHtml;\n",
              "          element.appendChild(docLink);\n",
              "        }\n",
              "      </script>\n",
              "    </div>\n",
              "  </div>\n",
              "  "
            ]
          },
          "metadata": {},
          "execution_count": 149
        }
      ]
    },
    {
      "cell_type": "markdown",
      "source": [
        "* Acima foi apenas uma prova que realmente a coluna `tenure` contém os valores na escala de mês, na coluna nova `TesteTenure` confirma que os valores são bem aproximados."
      ],
      "metadata": {
        "id": "kjHGumm9nPI0"
      }
    },
    {
      "cell_type": "markdown",
      "source": [
        "---\n",
        "* ### Abaixo podemos ver em quais meses há mais cancelamento na coluna **`Churn`**\n"
      ],
      "metadata": {
        "id": "YLcLwXJUpECz"
      }
    },
    {
      "cell_type": "code",
      "source": [
        "# VISUALIZANDO VALORES NA COLUNAS CHURN\n",
        "fig, ax = plt.subplots(nrows=2, figsize=(15,4))\n",
        "plt.subplots_adjust(hspace=0.4)\n",
        "\n",
        "# NO\n",
        "ax[0].set_title('Churn No')\n",
        "sns.countplot(x='tenure', data=df[df['Churn'] == 'No'], ax=ax[0]);\n",
        "ax[0].set_xlabel(' ')\n",
        "ax[0].set_yticks(range(0,401,100))\n",
        "ax[0].grid(axis='y')\n",
        "\n",
        "# YES\n",
        "ax[1].set_title('Churn Yes')\n",
        "sns.countplot(x='tenure', data=df[df['Churn'] == 'Yes'], ax=ax[1]);\n",
        "ax[1].set_yticks(range(0,401,100))\n",
        "ax[1].grid(axis='y')"
      ],
      "metadata": {
        "id": "d_AaUqGdpJsM",
        "colab": {
          "base_uri": "https://localhost:8080/",
          "height": 410
        },
        "outputId": "44467a8f-c9b2-4d7d-8867-793449789b8d"
      },
      "execution_count": null,
      "outputs": [
        {
          "output_type": "display_data",
          "data": {
            "text/plain": [
              "<Figure size 1500x400 with 2 Axes>"
            ],
            "image/png": "[encoded data removed]"
          },
          "metadata": {}
        }
      ]
    },
    {
      "cell_type": "markdown",
      "source": [
        "* ### ↑ É notavel que há mais recorrência de `Churn Yes` nos primeiros meses.\n"
      ],
      "metadata": {
        "id": "upo3s9rHA6l6"
      }
    },
    {
      "cell_type": "code",
      "source": [
        "# BOXPLOT PARA VERIFICAR OUTLIERS\n",
        "fig, ax = plt.subplots(nrows=2, figsize=(14,4))\n",
        "plt.subplots_adjust(hspace=0.4)\n",
        "\n",
        "ax[0].set_title('MonthlyCharges', fontsize=10)\n",
        "ax[0].boxplot(x='MonthlyCharges', data=df, vert=False)\n",
        "ax[0].set_xticks(range(0,121, 5))\n",
        "\n",
        "ax[1].set_title('TotalCharges', fontsize=10)\n",
        "ax[1].boxplot(x='TotalCharges', data=df, vert=False)\n",
        "ax[1].set_xticks(range(0, 9001, 500))\n",
        "\n",
        "plt.show()"
      ],
      "metadata": {
        "colab": {
          "base_uri": "https://localhost:8080/",
          "height": 388
        },
        "id": "QRxEgIfOaN3a",
        "outputId": "4c094f68-a282-45ea-f082-a44714e30b9f"
      },
      "execution_count": null,
      "outputs": [
        {
          "output_type": "display_data",
          "data": {
            "text/plain": [
              "<Figure size 1400x400 with 2 Axes>"
            ],
            "image/png": "[encoded data removed]"
          },
          "metadata": {}
        }
      ]
    },
    {
      "cell_type": "markdown",
      "source": [
        "* ↑ Podemos ver que nas colunas númericas não `float` não há outliers."
      ],
      "metadata": {
        "id": "_Lt9ofidbgPC"
      }
    },
    {
      "cell_type": "code",
      "source": [
        "# VISUALIZANDO COLUNAS COM 2 VALORES ÚNICOS\n",
        "print('{} Colunas'.format(df.nunique()[df.nunique() == 2].shape[0]))\n",
        "two = df.nunique()[df.nunique() == 2].index.tolist()\n",
        "\n",
        "fig, axes = plt.subplots(nrows=len(two) // 3 + len(two) % 3, ncols=3 , figsize=(14,8))\n",
        "plt.subplots_adjust(hspace=0.3)\n",
        "\n",
        "fig.suptitle('COLUNAS COM 2 VALORES ÚNICOS')\n",
        "for i, cols in enumerate(two):\n",
        "  ax = axes[i // 3, i % 3]\n",
        "  sns.countplot(x=cols, data=df, ax=ax)\n",
        "  ax.set_xlabel(cols)\n",
        "\n",
        "for i in range(len(two), len(axes.flatten())):\n",
        "    axes.flatten()[i].remove()"
      ],
      "metadata": {
        "colab": {
          "base_uri": "https://localhost:8080/",
          "height": 793
        },
        "id": "uupivVij_QFH",
        "outputId": "c9405750-7696-4f96-c16b-b12caafda38d"
      },
      "execution_count": null,
      "outputs": [
        {
          "output_type": "stream",
          "name": "stdout",
          "text": [
            "7 Colunas\n"
          ]
        },
        {
          "output_type": "display_data",
          "data": {
            "text/plain": [
              "<Figure size 1400x800 with 7 Axes>"
            ],
            "image/png": "[encoded data removed]"
          },
          "metadata": {}
        }
      ]
    },
    {
      "cell_type": "markdown",
      "source": [
        "* ↑ Acima vemos a distrubuição dos dados nas colunas que contém 2 valores únicos, não há um padrão para os valores, há bastante variação entre `Yes` e `No` nas colunas."
      ],
      "metadata": {
        "id": "pVkwZhFMExzE"
      }
    },
    {
      "cell_type": "code",
      "source": [
        "# VISUALIZANDO COLUNAS COM 3 VALORES ÚNICOS\n",
        "print('{} Colunas'.format(df.nunique()[df.nunique() == 3].shape[0]))\n",
        "three = df.nunique()[df.nunique() == 3].index.tolist()\n",
        "\n",
        "fig, axes = plt.subplots(nrows=len(three) // 3 + len(three) % 3, ncols=3 , figsize=(14,8))\n",
        "plt.subplots_adjust(hspace=0.3)\n",
        "fig.suptitle('COLUNAS COM 3 VALORES ÚNICOS')\n",
        "\n",
        "for i, cols in enumerate(three):\n",
        "  ax = axes[i // 3, i % 3]\n",
        "  sns.countplot(x=cols, data=df, ax=ax)\n",
        "  ax.set_xlabel(cols)"
      ],
      "metadata": {
        "colab": {
          "base_uri": "https://localhost:8080/",
          "height": 793
        },
        "id": "2i1A45ZGtV0i",
        "outputId": "f8742759-f910-48be-c623-962d1ab620b3"
      },
      "execution_count": null,
      "outputs": [
        {
          "output_type": "stream",
          "name": "stdout",
          "text": [
            "9 Colunas\n"
          ]
        },
        {
          "output_type": "display_data",
          "data": {
            "text/plain": [
              "<Figure size 1400x800 with 9 Axes>"
            ],
            "image/png": "[encoded data removed]"
          },
          "metadata": {}
        }
      ]
    },
    {
      "cell_type": "markdown",
      "source": [
        "* ↑ Acima podemos ver a distribuição nas colunas que contém 3 valores únicos.\n",
        " * Na maioria das colunas o `No` é o que tem mais recorrência.\n",
        " * `Yes` normalmente é o segundo com mais recorrência."
      ],
      "metadata": {
        "id": "dtFajw8dwkdS"
      }
    },
    {
      "cell_type": "markdown",
      "source": [
        "## Abaixa vou começar a fazer o pré-processamento dos dados e deixar pronto para fazer os modelos de machine learning.\n",
        "* Preciso passar todas as colunas para o formato em números, as colunas binárias vou usar o Label Encoder para fazer essa conversão."
      ],
      "metadata": {
        "id": "2Ax0WVxBaBRK"
      }
    },
    {
      "cell_type": "code",
      "source": [
        "# DEFININDO COLUNAS\n",
        "# Colunas binárias\n",
        "bi_cols = df.nunique()[df.nunique() == 2].index.tolist()\n",
        "\n",
        "#Colunas numéricas\n",
        "num_cols = [col for col in df.select_dtypes(['float','int']).columns.tolist() if col not in bi_cols]\n",
        "\n",
        "#Colunas object\n",
        "mult_cols = [col for col in df.columns.tolist() if col not in bi_cols + num_cols]"
      ],
      "metadata": {
        "id": "l372RJE-N5Uq"
      },
      "execution_count": null,
      "outputs": []
    },
    {
      "cell_type": "code",
      "source": [
        "# Importando a biblioteca necessária\n",
        "from sklearn.preprocessing import LabelEncoder\n",
        "le = LabelEncoder()\n",
        "\n",
        "# Aplicando Label Encoder nas colunas binárias\n",
        "for cols in bi_cols:\n",
        "  df[cols] = le.fit_transform(df[cols])\n",
        "\n",
        "# Aplicando Enconding nas colunas com múltiplas classes\n",
        "print('Colunas antes:\\t',df.shape[1])\n",
        "df = pd.get_dummies(df, columns=mult_cols)\n",
        "print('Colunas depois:\\t',df.shape[1])"
      ],
      "metadata": {
        "id": "DRFHuvCRaBOs",
        "colab": {
          "base_uri": "https://localhost:8080/"
        },
        "outputId": "d30a5435-26f2-4a32-8a92-828eba0a4d0e"
      },
      "execution_count": null,
      "outputs": [
        {
          "output_type": "stream",
          "name": "stdout",
          "text": [
            "Colunas antes:\t 20\n",
            "Colunas depois:\t 41\n"
          ]
        }
      ]
    },
    {
      "cell_type": "code",
      "source": [
        "df[:5]"
      ],
      "metadata": {
        "colab": {
          "base_uri": "https://localhost:8080/",
          "height": 305
        },
        "id": "njR542D0V2rq",
        "outputId": "4c52756e-79a8-4848-e3f1-1929fc48b127"
      },
      "execution_count": null,
      "outputs": [
        {
          "output_type": "execute_result",
          "data": {
            "text/plain": [
              "   gender  SeniorCitizen  Partner  Dependents  tenure  PhoneService  \\\n",
              "0       0              0        1           0       1             0   \n",
              "1       1              0        0           0      34             1   \n",
              "2       1              0        0           0       2             1   \n",
              "3       1              0        0           0      45             0   \n",
              "4       0              0        0           0       2             1   \n",
              "\n",
              "   PaperlessBilling  MonthlyCharges  TotalCharges  Churn  MultipleLines_No  \\\n",
              "0                 1           29.85         29.85      0                 0   \n",
              "1                 0           56.95       1889.50      0                 1   \n",
              "2                 1           53.85        108.15      1                 1   \n",
              "3                 0           42.30       1840.75      0                 0   \n",
              "4                 1           70.70        151.65      1                 1   \n",
              "\n",
              "   MultipleLines_No phone service  MultipleLines_Yes  InternetService_DSL  \\\n",
              "0                               1                  0                    1   \n",
              "1                               0                  0                    1   \n",
              "2                               0                  0                    1   \n",
              "3                               1                  0                    1   \n",
              "4                               0                  0                    0   \n",
              "\n",
              "   InternetService_Fiber optic  InternetService_No  OnlineSecurity_No  \\\n",
              "0                            0                   0                  1   \n",
              "1                            0                   0                  0   \n",
              "2                            0                   0                  0   \n",
              "3                            0                   0                  0   \n",
              "4                            1                   0                  1   \n",
              "\n",
              "   OnlineSecurity_No internet service  OnlineSecurity_Yes  OnlineBackup_No  \\\n",
              "0                                   0                   0                0   \n",
              "1                                   0                   1                1   \n",
              "2                                   0                   1                0   \n",
              "3                                   0                   1                1   \n",
              "4                                   0                   0                1   \n",
              "\n",
              "   OnlineBackup_No internet service  OnlineBackup_Yes  DeviceProtection_No  \\\n",
              "0                                 0                 1                    1   \n",
              "1                                 0                 0                    0   \n",
              "2                                 0                 1                    1   \n",
              "3                                 0                 0                    0   \n",
              "4                                 0                 0                    1   \n",
              "\n",
              "   DeviceProtection_No internet service  DeviceProtection_Yes  TechSupport_No  \\\n",
              "0                                     0                     0               1   \n",
              "1                                     0                     1               1   \n",
              "2                                     0                     0               1   \n",
              "3                                     0                     1               0   \n",
              "4                                     0                     0               1   \n",
              "\n",
              "   TechSupport_No internet service  TechSupport_Yes  StreamingTV_No  \\\n",
              "0                                0                0               1   \n",
              "1                                0                0               1   \n",
              "2                                0                0               1   \n",
              "3                                0                1               1   \n",
              "4                                0                0               1   \n",
              "\n",
              "   StreamingTV_No internet service  StreamingTV_Yes  StreamingMovies_No  \\\n",
              "0                                0                0                   1   \n",
              "1                                0                0                   1   \n",
              "2                                0                0                   1   \n",
              "3                                0                0                   1   \n",
              "4                                0                0                   1   \n",
              "\n",
              "   StreamingMovies_No internet service  StreamingMovies_Yes  \\\n",
              "0                                    0                    0   \n",
              "1                                    0                    0   \n",
              "2                                    0                    0   \n",
              "3                                    0                    0   \n",
              "4                                    0                    0   \n",
              "\n",
              "   Contract_Month-to-month  Contract_One year  Contract_Two year  \\\n",
              "0                        1                  0                  0   \n",
              "1                        0                  1                  0   \n",
              "2                        1                  0                  0   \n",
              "3                        0                  1                  0   \n",
              "4                        1                  0                  0   \n",
              "\n",
              "   PaymentMethod_Bank transfer (automatic)  \\\n",
              "0                                        0   \n",
              "1                                        0   \n",
              "2                                        0   \n",
              "3                                        1   \n",
              "4                                        0   \n",
              "\n",
              "   PaymentMethod_Credit card (automatic)  PaymentMethod_Electronic check  \\\n",
              "0                                      0                               1   \n",
              "1                                      0                               0   \n",
              "2                                      0                               0   \n",
              "3                                      0                               0   \n",
              "4                                      0                               1   \n",
              "\n",
              "   PaymentMethod_Mailed check  \n",
              "0                           0  \n",
              "1                           1  \n",
              "2                           1  \n",
              "3                           0  \n",
              "4                           0  "
            ],
            "text/html": [
              "\n",
              "  <div id=\"df-1be96106-91ca-4fae-bc2c-a536f2797c13\">\n",
              "    <div class=\"colab-df-container\">\n",
              "      <div>\n",
              "<style scoped>\n",
              "    .dataframe tbody tr th:only-of-type {\n",
              "        vertical-align: middle;\n",
              "    }\n",
              "\n",
              "    .dataframe tbody tr th {\n",
              "        vertical-align: top;\n",
              "    }\n",
              "\n",
              "    .dataframe thead th {\n",
              "        text-align: right;\n",
              "    }\n",
              "</style>\n",
              "<table border=\"1\" class=\"dataframe\">\n",
              "  <thead>\n",
              "    <tr style=\"text-align: right;\">\n",
              "      <th></th>\n",
              "      <th>gender</th>\n",
              "      <th>SeniorCitizen</th>\n",
              "      <th>Partner</th>\n",
              "      <th>Dependents</th>\n",
              "      <th>tenure</th>\n",
              "      <th>PhoneService</th>\n",
              "      <th>PaperlessBilling</th>\n",
              "      <th>MonthlyCharges</th>\n",
              "      <th>TotalCharges</th>\n",
              "      <th>Churn</th>\n",
              "      <th>MultipleLines_No</th>\n",
              "      <th>MultipleLines_No phone service</th>\n",
              "      <th>MultipleLines_Yes</th>\n",
              "      <th>InternetService_DSL</th>\n",
              "      <th>InternetService_Fiber optic</th>\n",
              "      <th>InternetService_No</th>\n",
              "      <th>OnlineSecurity_No</th>\n",
              "      <th>OnlineSecurity_No internet service</th>\n",
              "      <th>OnlineSecurity_Yes</th>\n",
              "      <th>OnlineBackup_No</th>\n",
              "      <th>OnlineBackup_No internet service</th>\n",
              "      <th>OnlineBackup_Yes</th>\n",
              "      <th>DeviceProtection_No</th>\n",
              "      <th>DeviceProtection_No internet service</th>\n",
              "      <th>DeviceProtection_Yes</th>\n",
              "      <th>TechSupport_No</th>\n",
              "      <th>TechSupport_No internet service</th>\n",
              "      <th>TechSupport_Yes</th>\n",
              "      <th>StreamingTV_No</th>\n",
              "      <th>StreamingTV_No internet service</th>\n",
              "      <th>StreamingTV_Yes</th>\n",
              "      <th>StreamingMovies_No</th>\n",
              "      <th>StreamingMovies_No internet service</th>\n",
              "      <th>StreamingMovies_Yes</th>\n",
              "      <th>Contract_Month-to-month</th>\n",
              "      <th>Contract_One year</th>\n",
              "      <th>Contract_Two year</th>\n",
              "      <th>PaymentMethod_Bank transfer (automatic)</th>\n",
              "      <th>PaymentMethod_Credit card (automatic)</th>\n",
              "      <th>PaymentMethod_Electronic check</th>\n",
              "      <th>PaymentMethod_Mailed check</th>\n",
              "    </tr>\n",
              "  </thead>\n",
              "  <tbody>\n",
              "    <tr>\n",
              "      <th>0</th>\n",
              "      <td>0</td>\n",
              "      <td>0</td>\n",
              "      <td>1</td>\n",
              "      <td>0</td>\n",
              "      <td>1</td>\n",
              "      <td>0</td>\n",
              "      <td>1</td>\n",
              "      <td>29.85</td>\n",
              "      <td>29.85</td>\n",
              "      <td>0</td>\n",
              "      <td>0</td>\n",
              "      <td>1</td>\n",
              "      <td>0</td>\n",
              "      <td>1</td>\n",
              "      <td>0</td>\n",
              "      <td>0</td>\n",
              "      <td>1</td>\n",
              "      <td>0</td>\n",
              "      <td>0</td>\n",
              "      <td>0</td>\n",
              "      <td>0</td>\n",
              "      <td>1</td>\n",
              "      <td>1</td>\n",
              "      <td>0</td>\n",
              "      <td>0</td>\n",
              "      <td>1</td>\n",
              "      <td>0</td>\n",
              "      <td>0</td>\n",
              "      <td>1</td>\n",
              "      <td>0</td>\n",
              "      <td>0</td>\n",
              "      <td>1</td>\n",
              "      <td>0</td>\n",
              "      <td>0</td>\n",
              "      <td>1</td>\n",
              "      <td>0</td>\n",
              "      <td>0</td>\n",
              "      <td>0</td>\n",
              "      <td>0</td>\n",
              "      <td>1</td>\n",
              "      <td>0</td>\n",
              "    </tr>\n",
              "    <tr>\n",
              "      <th>1</th>\n",
              "      <td>1</td>\n",
              "      <td>0</td>\n",
              "      <td>0</td>\n",
              "      <td>0</td>\n",
              "      <td>34</td>\n",
              "      <td>1</td>\n",
              "      <td>0</td>\n",
              "      <td>56.95</td>\n",
              "      <td>1889.50</td>\n",
              "      <td>0</td>\n",
              "      <td>1</td>\n",
              "      <td>0</td>\n",
              "      <td>0</td>\n",
              "      <td>1</td>\n",
              "      <td>0</td>\n",
              "      <td>0</td>\n",
              "      <td>0</td>\n",
              "      <td>0</td>\n",
              "      <td>1</td>\n",
              "      <td>1</td>\n",
              "      <td>0</td>\n",
              "      <td>0</td>\n",
              "      <td>0</td>\n",
              "      <td>0</td>\n",
              "      <td>1</td>\n",
              "      <td>1</td>\n",
              "      <td>0</td>\n",
              "      <td>0</td>\n",
              "      <td>1</td>\n",
              "      <td>0</td>\n",
              "      <td>0</td>\n",
              "      <td>1</td>\n",
              "      <td>0</td>\n",
              "      <td>0</td>\n",
              "      <td>0</td>\n",
              "      <td>1</td>\n",
              "      <td>0</td>\n",
              "      <td>0</td>\n",
              "      <td>0</td>\n",
              "      <td>0</td>\n",
              "      <td>1</td>\n",
              "    </tr>\n",
              "    <tr>\n",
              "      <th>2</th>\n",
              "      <td>1</td>\n",
              "      <td>0</td>\n",
              "      <td>0</td>\n",
              "      <td>0</td>\n",
              "      <td>2</td>\n",
              "      <td>1</td>\n",
              "      <td>1</td>\n",
              "      <td>53.85</td>\n",
              "      <td>108.15</td>\n",
              "      <td>1</td>\n",
              "      <td>1</td>\n",
              "      <td>0</td>\n",
              "      <td>0</td>\n",
              "      <td>1</td>\n",
              "      <td>0</td>\n",
              "      <td>0</td>\n",
              "      <td>0</td>\n",
              "      <td>0</td>\n",
              "      <td>1</td>\n",
              "      <td>0</td>\n",
              "      <td>0</td>\n",
              "      <td>1</td>\n",
              "      <td>1</td>\n",
              "      <td>0</td>\n",
              "      <td>0</td>\n",
              "      <td>1</td>\n",
              "      <td>0</td>\n",
              "      <td>0</td>\n",
              "      <td>1</td>\n",
              "      <td>0</td>\n",
              "      <td>0</td>\n",
              "      <td>1</td>\n",
              "      <td>0</td>\n",
              "      <td>0</td>\n",
              "      <td>1</td>\n",
              "      <td>0</td>\n",
              "      <td>0</td>\n",
              "      <td>0</td>\n",
              "      <td>0</td>\n",
              "      <td>0</td>\n",
              "      <td>1</td>\n",
              "    </tr>\n",
              "    <tr>\n",
              "      <th>3</th>\n",
              "      <td>1</td>\n",
              "      <td>0</td>\n",
              "      <td>0</td>\n",
              "      <td>0</td>\n",
              "      <td>45</td>\n",
              "      <td>0</td>\n",
              "      <td>0</td>\n",
              "      <td>42.30</td>\n",
              "      <td>1840.75</td>\n",
              "      <td>0</td>\n",
              "      <td>0</td>\n",
              "      <td>1</td>\n",
              "      <td>0</td>\n",
              "      <td>1</td>\n",
              "      <td>0</td>\n",
              "      <td>0</td>\n",
              "      <td>0</td>\n",
              "      <td>0</td>\n",
              "      <td>1</td>\n",
              "      <td>1</td>\n",
              "      <td>0</td>\n",
              "      <td>0</td>\n",
              "      <td>0</td>\n",
              "      <td>0</td>\n",
              "      <td>1</td>\n",
              "      <td>0</td>\n",
              "      <td>0</td>\n",
              "      <td>1</td>\n",
              "      <td>1</td>\n",
              "      <td>0</td>\n",
              "      <td>0</td>\n",
              "      <td>1</td>\n",
              "      <td>0</td>\n",
              "      <td>0</td>\n",
              "      <td>0</td>\n",
              "      <td>1</td>\n",
              "      <td>0</td>\n",
              "      <td>1</td>\n",
              "      <td>0</td>\n",
              "      <td>0</td>\n",
              "      <td>0</td>\n",
              "    </tr>\n",
              "    <tr>\n",
              "      <th>4</th>\n",
              "      <td>0</td>\n",
              "      <td>0</td>\n",
              "      <td>0</td>\n",
              "      <td>0</td>\n",
              "      <td>2</td>\n",
              "      <td>1</td>\n",
              "      <td>1</td>\n",
              "      <td>70.70</td>\n",
              "      <td>151.65</td>\n",
              "      <td>1</td>\n",
              "      <td>1</td>\n",
              "      <td>0</td>\n",
              "      <td>0</td>\n",
              "      <td>0</td>\n",
              "      <td>1</td>\n",
              "      <td>0</td>\n",
              "      <td>1</td>\n",
              "      <td>0</td>\n",
              "      <td>0</td>\n",
              "      <td>1</td>\n",
              "      <td>0</td>\n",
              "      <td>0</td>\n",
              "      <td>1</td>\n",
              "      <td>0</td>\n",
              "      <td>0</td>\n",
              "      <td>1</td>\n",
              "      <td>0</td>\n",
              "      <td>0</td>\n",
              "      <td>1</td>\n",
              "      <td>0</td>\n",
              "      <td>0</td>\n",
              "      <td>1</td>\n",
              "      <td>0</td>\n",
              "      <td>0</td>\n",
              "      <td>1</td>\n",
              "      <td>0</td>\n",
              "      <td>0</td>\n",
              "      <td>0</td>\n",
              "      <td>0</td>\n",
              "      <td>1</td>\n",
              "      <td>0</td>\n",
              "    </tr>\n",
              "  </tbody>\n",
              "</table>\n",
              "</div>\n",
              "      <button class=\"colab-df-convert\" onclick=\"convertToInteractive('df-1be96106-91ca-4fae-bc2c-a536f2797c13')\"\n",
              "              title=\"Convert this dataframe to an interactive table.\"\n",
              "              style=\"display:none;\">\n",
              "        \n",
              "  <svg xmlns=\"http://www.w3.org/2000/svg\" height=\"24px\"viewBox=\"0 0 24 24\"\n",
              "       width=\"24px\">\n",
              "    <path d=\"M0 0h24v24H0V0z\" fill=\"none\"/>\n",
              "    <path d=\"M18.56 5.44l.94 2.06.94-2.06 2.06-.94-2.06-.94-.94-2.06-.94 2.06-2.06.94zm-11 1L8.5 8.5l.94-2.06 2.06-.94-2.06-.94L8.5 2.5l-.94 2.06-2.06.94zm10 10l.94 2.06.94-2.06 2.06-.94-2.06-.94-.94-2.06-.94 2.06-2.06.94z\"/><path d=\"M17.41 7.96l-1.37-1.37c-.4-.4-.92-.59-1.43-.59-.52 0-1.04.2-1.43.59L10.3 9.45l-7.72 7.72c-.78.78-.78 2.05 0 2.83L4 21.41c.39.39.9.59 1.41.59.51 0 1.02-.2 1.41-.59l7.78-7.78 2.81-2.81c.8-.78.8-2.07 0-2.86zM5.41 20L4 18.59l7.72-7.72 1.47 1.35L5.41 20z\"/>\n",
              "  </svg>\n",
              "      </button>\n",
              "      \n",
              "  <style>\n",
              "    .colab-df-container {\n",
              "      display:flex;\n",
              "      flex-wrap:wrap;\n",
              "      gap: 12px;\n",
              "    }\n",
              "\n",
              "    .colab-df-convert {\n",
              "      background-color: #E8F0FE;\n",
              "      border: none;\n",
              "      border-radius: 50%;\n",
              "      cursor: pointer;\n",
              "      display: none;\n",
              "      fill: #1967D2;\n",
              "      height: 32px;\n",
              "      padding: 0 0 0 0;\n",
              "      width: 32px;\n",
              "    }\n",
              "\n",
              "    .colab-df-convert:hover {\n",
              "      background-color: #E2EBFA;\n",
              "      box-shadow: 0px 1px 2px rgba(60, 64, 67, 0.3), 0px 1px 3px 1px rgba(60, 64, 67, 0.15);\n",
              "      fill: #174EA6;\n",
              "    }\n",
              "\n",
              "    [theme=dark] .colab-df-convert {\n",
              "      background-color: #3B4455;\n",
              "      fill: #D2E3FC;\n",
              "    }\n",
              "\n",
              "    [theme=dark] .colab-df-convert:hover {\n",
              "      background-color: #434B5C;\n",
              "      box-shadow: 0px 1px 3px 1px rgba(0, 0, 0, 0.15);\n",
              "      filter: drop-shadow(0px 1px 2px rgba(0, 0, 0, 0.3));\n",
              "      fill: #FFFFFF;\n",
              "    }\n",
              "  </style>\n",
              "\n",
              "      <script>\n",
              "        const buttonEl =\n",
              "          document.querySelector('#df-1be96106-91ca-4fae-bc2c-a536f2797c13 button.colab-df-convert');\n",
              "        buttonEl.style.display =\n",
              "          google.colab.kernel.accessAllowed ? 'block' : 'none';\n",
              "\n",
              "        async function convertToInteractive(key) {\n",
              "          const element = document.querySelector('#df-1be96106-91ca-4fae-bc2c-a536f2797c13');\n",
              "          const dataTable =\n",
              "            await google.colab.kernel.invokeFunction('convertToInteractive',\n",
              "                                                     [key], {});\n",
              "          if (!dataTable) return;\n",
              "\n",
              "          const docLinkHtml = 'Like what you see? Visit the ' +\n",
              "            '<a target=\"_blank\" href=https://colab.research.google.com/notebooks/data_table.ipynb>data table notebook</a>'\n",
              "            + ' to learn more about interactive tables.';\n",
              "          element.innerHTML = '';\n",
              "          dataTable['output_type'] = 'display_data';\n",
              "          await google.colab.output.renderOutput(dataTable, element);\n",
              "          const docLink = document.createElement('div');\n",
              "          docLink.innerHTML = docLinkHtml;\n",
              "          element.appendChild(docLink);\n",
              "        }\n",
              "      </script>\n",
              "    </div>\n",
              "  </div>\n",
              "  "
            ]
          },
          "metadata": {},
          "execution_count": 157
        }
      ]
    },
    {
      "cell_type": "markdown",
      "source": [
        "# **`Machine Learning`**\n",
        "* Com os dados previamente prontos, irei separar em dados de **treino, teste e validação**."
      ],
      "metadata": {
        "id": "cfaFtAs7dU4v"
      }
    },
    {
      "cell_type": "code",
      "source": [
        "# DEFININDO VARIÁVEIS\n",
        "X = df.drop('Churn', axis=1)\n",
        "y = df['Churn']\n",
        "\n",
        "# Separando dados para teste, treino e validação\n",
        "from sklearn.model_selection import train_test_split\n",
        "X_princ, X_test, y_princ, y_test = train_test_split(X, y, test_size=0.2, random_state=0, stratify=y)\n",
        "X_train, X_val, y_train, y_val = train_test_split(X_princ, y_princ, test_size=0.2, random_state=0)\n",
        "\n",
        "print('X_train:',X_train.shape)\n",
        "print('y_train:',y_train.shape)\n",
        "print('')\n",
        "print('X_test:\\t',X_test.shape)\n",
        "print('y_train:',y_test.shape)\n",
        "print('')\n",
        "print('X_val:\\t',X_val.shape)\n",
        "print('y_train:',y_val.shape)"
      ],
      "metadata": {
        "colab": {
          "base_uri": "https://localhost:8080/"
        },
        "id": "kbCx3N39alAA",
        "outputId": "2cbaf53d-8a48-4f5c-df8c-bc064f4f26f8"
      },
      "execution_count": null,
      "outputs": [
        {
          "output_type": "stream",
          "name": "stdout",
          "text": [
            "X_train: (4500, 40)\n",
            "y_train: (4500,)\n",
            "\n",
            "X_test:\t (1407, 40)\n",
            "y_train: (1407,)\n",
            "\n",
            "X_val:\t (1125, 40)\n",
            "y_train: (1125,)\n"
          ]
        }
      ]
    },
    {
      "cell_type": "markdown",
      "source": [
        "* ### Abaixo já começo a ver as primeiras pontuções com os dados."
      ],
      "metadata": {
        "id": "crTD7vFTgeJ3"
      }
    },
    {
      "cell_type": "code",
      "source": [
        "# Importando as bibliotecas necessárias\n",
        "from sklearn.pipeline import make_pipeline\n",
        "from sklearn.model_selection import cross_val_score\n",
        "from sklearn.preprocessing import StandardScaler\n",
        "\n",
        "# ALGORITMOS\n",
        "from sklearn.linear_model import LogisticRegression"
      ],
      "metadata": {
        "id": "88UXzp2QyeKF"
      },
      "execution_count": null,
      "outputs": []
    },
    {
      "cell_type": "code",
      "source": [
        "# CRIANDO MODELO PARA AVALIAÇÃO\n",
        "def val_model(X, y, clf, quite=False):\n",
        "  X = np.array(X)\n",
        "  y = np.array(y)\n",
        "\n",
        "  pipeline = make_pipeline(StandardScaler(), clf)\n",
        "  score = cross_val_score(pipeline, X, y, scoring='recall')\n",
        "\n",
        "  if quite == False:\n",
        "    print('Recal: {:.2f} (+/- {:.2f})'.format(score.mean(), score.std()))\n",
        "\n",
        "  return score.mean()"
      ],
      "metadata": {
        "id": "TAhUGAErdzFQ"
      },
      "execution_count": null,
      "outputs": []
    },
    {
      "cell_type": "code",
      "source": [
        "# Primeiro teste com a regressão logística\n",
        "lr = LogisticRegression()\n",
        "score_baseline = val_model(X_train, y_train, lr)"
      ],
      "metadata": {
        "colab": {
          "base_uri": "https://localhost:8080/"
        },
        "id": "JuKYsyPm2h9M",
        "outputId": "7c1d4344-349f-47d1-ea14-d034843357e8"
      },
      "execution_count": null,
      "outputs": [
        {
          "output_type": "stream",
          "name": "stdout",
          "text": [
            "Recal: 0.55 (+/- 0.03)\n"
          ]
        }
      ]
    },
    {
      "cell_type": "markdown",
      "source": [
        "* ### Agora já com uma ideia da pontuação inicial irei trabalhar em cima dos dados para conseguir uma melhora no algoritmo. Como já sabemos que na coluna `Churn` os dados estão balanceados, irei balancear para ficar equilibrado e atingir uma melhor pontuação no algoritmo."
      ],
      "metadata": {
        "id": "npu8XVHk5FxM"
      }
    },
    {
      "cell_type": "code",
      "source": [
        "# PADRONIZANDO OS DADOS\n",
        "X_train = StandardScaler().fit_transform(X_train)\n",
        "X_test = StandardScaler().fit_transform(X_test)\n",
        "X_val = StandardScaler().fit_transform(X_val)\n",
        "\n",
        "# BALANCEANDO OS DADOS\n",
        "print('y_train antes:\\n',y_train.value_counts())\n",
        "from imblearn.under_sampling import RandomUnderSampler\n",
        "rus = RandomUnderSampler()\n",
        "print('')\n",
        "X_trainblc, y_trainblc = rus.fit_resample(X_train, y_train)\n",
        "X_testblc, y_testblc = rus.fit_resample(X_test, y_test)\n",
        "X_valblc, y_valblc = rus.fit_resample(X_val, y_val)\n",
        "\n",
        "print('y_train depois:\\n',y_trainblc.value_counts())"
      ],
      "metadata": {
        "colab": {
          "base_uri": "https://localhost:8080/"
        },
        "id": "TrU5t0D94e2z",
        "outputId": "21d62b68-0689-442a-e223-f91df926da1e"
      },
      "execution_count": null,
      "outputs": [
        {
          "output_type": "stream",
          "name": "stdout",
          "text": [
            "y_train antes:\n",
            " 0    3295\n",
            "1    1205\n",
            "Name: Churn, dtype: int64\n",
            "\n",
            "y_train depois:\n",
            " 0    1205\n",
            "1    1205\n",
            "Name: Churn, dtype: int64\n"
          ]
        }
      ]
    },
    {
      "cell_type": "markdown",
      "source": [
        "* #### Vou avaliar vários modelos com os dados de teste."
      ],
      "metadata": {
        "id": "3OU4o5BjCq3K"
      }
    },
    {
      "cell_type": "code",
      "source": [
        "# IMPORTANTO ALGORITMOS\n",
        "from sklearn.model_selection import StratifiedKFold\n",
        "from sklearn.model_selection import GridSearchCV\n",
        "from sklearn.svm import SVC\n",
        "from lightgbm import LGBMClassifier\n",
        "from sklearn.linear_model import SGDClassifier\n",
        "from xgboost import XGBClassifier\n",
        "from sklearn.ensemble import RandomForestClassifier\n",
        "from sklearn.tree import DecisionTreeClassifier"
      ],
      "metadata": {
        "id": "BsTIy_y3_0MS"
      },
      "execution_count": null,
      "outputs": []
    },
    {
      "cell_type": "code",
      "source": [
        "# ALGORITMOS\n",
        "rf = RandomForestClassifier()\n",
        "tree = DecisionTreeClassifier()\n",
        "sgdc = SGDClassifier()\n",
        "svc = SVC()\n",
        "lr = LogisticRegression()\n",
        "xgb = XGBClassifier()\n",
        "lgbm = LGBMClassifier()"
      ],
      "metadata": {
        "id": "8QrqcCarDoQq"
      },
      "execution_count": null,
      "outputs": []
    },
    {
      "cell_type": "code",
      "source": [
        "model = []\n",
        "recall = []\n",
        "\n",
        "# Avaliando os modelos\n",
        "for clf in (rf ,tree, sgdc, svc, lr, xgb, lgbm):\n",
        "  model.append(clf.__class__.__name__)\n",
        "  recall.append(val_model(X_trainblc, y_trainblc, clf, quite=True))\n",
        "\n",
        "pd.DataFrame(data=recall, index=model, columns=['Recall']).sort_values(by='Recall', ascending=False)"
      ],
      "metadata": {
        "colab": {
          "base_uri": "https://localhost:8080/",
          "height": 269
        },
        "id": "v4Q2ok2tZF_0",
        "outputId": "6947dbd1-706d-4229-ecb8-1837fad31760"
      },
      "execution_count": null,
      "outputs": [
        {
          "output_type": "execute_result",
          "data": {
            "text/plain": [
              "                          Recall\n",
              "LogisticRegression      0.795021\n",
              "SVC                     0.787552\n",
              "LGBMClassifier          0.769295\n",
              "SGDClassifier           0.768465\n",
              "RandomForestClassifier  0.758506\n",
              "XGBClassifier           0.752697\n",
              "DecisionTreeClassifier  0.672199"
            ],
            "text/html": [
              "\n",
              "  <div id=\"df-c8d76847-9218-40fa-bb6d-129f6cae0176\">\n",
              "    <div class=\"colab-df-container\">\n",
              "      <div>\n",
              "<style scoped>\n",
              "    .dataframe tbody tr th:only-of-type {\n",
              "        vertical-align: middle;\n",
              "    }\n",
              "\n",
              "    .dataframe tbody tr th {\n",
              "        vertical-align: top;\n",
              "    }\n",
              "\n",
              "    .dataframe thead th {\n",
              "        text-align: right;\n",
              "    }\n",
              "</style>\n",
              "<table border=\"1\" class=\"dataframe\">\n",
              "  <thead>\n",
              "    <tr style=\"text-align: right;\">\n",
              "      <th></th>\n",
              "      <th>Recall</th>\n",
              "    </tr>\n",
              "  </thead>\n",
              "  <tbody>\n",
              "    <tr>\n",
              "      <th>LogisticRegression</th>\n",
              "      <td>0.795021</td>\n",
              "    </tr>\n",
              "    <tr>\n",
              "      <th>SVC</th>\n",
              "      <td>0.787552</td>\n",
              "    </tr>\n",
              "    <tr>\n",
              "      <th>LGBMClassifier</th>\n",
              "      <td>0.769295</td>\n",
              "    </tr>\n",
              "    <tr>\n",
              "      <th>SGDClassifier</th>\n",
              "      <td>0.768465</td>\n",
              "    </tr>\n",
              "    <tr>\n",
              "      <th>RandomForestClassifier</th>\n",
              "      <td>0.758506</td>\n",
              "    </tr>\n",
              "    <tr>\n",
              "      <th>XGBClassifier</th>\n",
              "      <td>0.752697</td>\n",
              "    </tr>\n",
              "    <tr>\n",
              "      <th>DecisionTreeClassifier</th>\n",
              "      <td>0.672199</td>\n",
              "    </tr>\n",
              "  </tbody>\n",
              "</table>\n",
              "</div>\n",
              "      <button class=\"colab-df-convert\" onclick=\"convertToInteractive('df-c8d76847-9218-40fa-bb6d-129f6cae0176')\"\n",
              "              title=\"Convert this dataframe to an interactive table.\"\n",
              "              style=\"display:none;\">\n",
              "        \n",
              "  <svg xmlns=\"http://www.w3.org/2000/svg\" height=\"24px\"viewBox=\"0 0 24 24\"\n",
              "       width=\"24px\">\n",
              "    <path d=\"M0 0h24v24H0V0z\" fill=\"none\"/>\n",
              "    <path d=\"M18.56 5.44l.94 2.06.94-2.06 2.06-.94-2.06-.94-.94-2.06-.94 2.06-2.06.94zm-11 1L8.5 8.5l.94-2.06 2.06-.94-2.06-.94L8.5 2.5l-.94 2.06-2.06.94zm10 10l.94 2.06.94-2.06 2.06-.94-2.06-.94-.94-2.06-.94 2.06-2.06.94z\"/><path d=\"M17.41 7.96l-1.37-1.37c-.4-.4-.92-.59-1.43-.59-.52 0-1.04.2-1.43.59L10.3 9.45l-7.72 7.72c-.78.78-.78 2.05 0 2.83L4 21.41c.39.39.9.59 1.41.59.51 0 1.02-.2 1.41-.59l7.78-7.78 2.81-2.81c.8-.78.8-2.07 0-2.86zM5.41 20L4 18.59l7.72-7.72 1.47 1.35L5.41 20z\"/>\n",
              "  </svg>\n",
              "      </button>\n",
              "      \n",
              "  <style>\n",
              "    .colab-df-container {\n",
              "      display:flex;\n",
              "      flex-wrap:wrap;\n",
              "      gap: 12px;\n",
              "    }\n",
              "\n",
              "    .colab-df-convert {\n",
              "      background-color: #E8F0FE;\n",
              "      border: none;\n",
              "      border-radius: 50%;\n",
              "      cursor: pointer;\n",
              "      display: none;\n",
              "      fill: #1967D2;\n",
              "      height: 32px;\n",
              "      padding: 0 0 0 0;\n",
              "      width: 32px;\n",
              "    }\n",
              "\n",
              "    .colab-df-convert:hover {\n",
              "      background-color: #E2EBFA;\n",
              "      box-shadow: 0px 1px 2px rgba(60, 64, 67, 0.3), 0px 1px 3px 1px rgba(60, 64, 67, 0.15);\n",
              "      fill: #174EA6;\n",
              "    }\n",
              "\n",
              "    [theme=dark] .colab-df-convert {\n",
              "      background-color: #3B4455;\n",
              "      fill: #D2E3FC;\n",
              "    }\n",
              "\n",
              "    [theme=dark] .colab-df-convert:hover {\n",
              "      background-color: #434B5C;\n",
              "      box-shadow: 0px 1px 3px 1px rgba(0, 0, 0, 0.15);\n",
              "      filter: drop-shadow(0px 1px 2px rgba(0, 0, 0, 0.3));\n",
              "      fill: #FFFFFF;\n",
              "    }\n",
              "  </style>\n",
              "\n",
              "      <script>\n",
              "        const buttonEl =\n",
              "          document.querySelector('#df-c8d76847-9218-40fa-bb6d-129f6cae0176 button.colab-df-convert');\n",
              "        buttonEl.style.display =\n",
              "          google.colab.kernel.accessAllowed ? 'block' : 'none';\n",
              "\n",
              "        async function convertToInteractive(key) {\n",
              "          const element = document.querySelector('#df-c8d76847-9218-40fa-bb6d-129f6cae0176');\n",
              "          const dataTable =\n",
              "            await google.colab.kernel.invokeFunction('convertToInteractive',\n",
              "                                                     [key], {});\n",
              "          if (!dataTable) return;\n",
              "\n",
              "          const docLinkHtml = 'Like what you see? Visit the ' +\n",
              "            '<a target=\"_blank\" href=https://colab.research.google.com/notebooks/data_table.ipynb>data table notebook</a>'\n",
              "            + ' to learn more about interactive tables.';\n",
              "          element.innerHTML = '';\n",
              "          dataTable['output_type'] = 'display_data';\n",
              "          await google.colab.output.renderOutput(dataTable, element);\n",
              "          const docLink = document.createElement('div');\n",
              "          docLink.innerHTML = docLinkHtml;\n",
              "          element.appendChild(docLink);\n",
              "        }\n",
              "      </script>\n",
              "    </div>\n",
              "  </div>\n",
              "  "
            ]
          },
          "metadata": {},
          "execution_count": 165
        }
      ]
    },
    {
      "cell_type": "markdown",
      "source": [
        "* ### ↑ Acima o algoritmo de **Regressão Logística** apresentou a maior pontuação, porém vou trabalhar com o algoritmo **`XGBClassifier`** pois ele tem vários parâmetros que dá para melhorar o algoritmo.\n",
        "---\n",
        "### Abaixo vou procurar os melhores parâmetros para o algoritmos conseguir uma previsão melhor."
      ],
      "metadata": {
        "id": "aeYvX_7JaGkq"
      }
    },
    {
      "cell_type": "code",
      "source": [
        "xmodel = XGBClassifier(learning_rate=0.1)\n",
        "\n",
        "param = {'n_estimators':range(0,1000,50)}\n",
        "\n",
        "# identificando parâmetro\n",
        "kfold = StratifiedKFold(n_splits=10, shuffle=True)\n",
        "grid_search = GridSearchCV(xmodel, param, scoring='recall', n_jobs=-1, cv=kfold)\n",
        "grid_result = grid_search.fit(X_trainblc, y_trainblc)\n",
        "\n",
        "print(\"melhor: {} para {}\".format(grid_result.best_score_, grid_result.best_params_))\n"
      ],
      "metadata": {
        "id": "2VrXM2P6ckJs",
        "colab": {
          "base_uri": "https://localhost:8080/"
        },
        "outputId": "868acc0b-ceda-4b72-b7f2-a3d6893cfa8f"
      },
      "execution_count": null,
      "outputs": [
        {
          "output_type": "stream",
          "name": "stdout",
          "text": [
            "melhor: 0.793340220385675 para {'n_estimators': 50}\n"
          ]
        }
      ]
    },
    {
      "cell_type": "code",
      "source": [
        "xmodel = XGBClassifier(learning_rate=0.1, n_estimators=50)\n",
        "\n",
        "params = {'max_depth':range(1,8,1),\n",
        "          'min_child_weight':range(1,5,1)}\n",
        "\n",
        "kfold = StratifiedKFold(n_splits=10, shuffle=True)\n",
        "\n",
        "grid_search = GridSearchCV(xgb, params, scoring='recall', n_jobs=-1, cv=kfold)\n",
        "grid_result = grid_search.fit(X_trainblc, y_trainblc)\n",
        "\n",
        "print('Melhor: {} para {}'.format(grid_result.best_score_, grid_result.best_params_))"
      ],
      "metadata": {
        "id": "XRYoTo4S430m",
        "colab": {
          "base_uri": "https://localhost:8080/"
        },
        "outputId": "9509f670-c92f-4e91-8852-1005ca47db2d"
      },
      "execution_count": null,
      "outputs": [
        {
          "output_type": "stream",
          "name": "stdout",
          "text": [
            "Melhor: 0.8132300275482095 para {'max_depth': 1, 'min_child_weight': 1}\n"
          ]
        }
      ]
    },
    {
      "cell_type": "code",
      "source": [
        "xmodel = XGBClassifier(learning_rate=0.1, n_estimators=50, max_depth=1, min_child_weight=1)\n",
        "\n",
        "params = {'gamma':[i/10.0 for i in range(0,5)]}\n",
        "\n",
        "kfold = StratifiedKFold(n_splits=10, shuffle=True)\n",
        "\n",
        "grid_search = GridSearchCV(xmodel, params, scoring='recall', n_jobs=-1, cv=kfold)\n",
        "grid_result = grid_search.fit(X_trainblc, y_trainblc)\n",
        "\n",
        "print('Melhor: {} para {}'.format(grid_result.best_score_, grid_result.best_params_))"
      ],
      "metadata": {
        "id": "3aRUBsrsBcFF",
        "colab": {
          "base_uri": "https://localhost:8080/"
        },
        "outputId": "f9550345-d60a-4c86-8854-f72290fd06ff"
      },
      "execution_count": null,
      "outputs": [
        {
          "output_type": "stream",
          "name": "stdout",
          "text": [
            "Melhor: 0.8265771349862259 para {'gamma': 0.0}\n"
          ]
        }
      ]
    },
    {
      "cell_type": "code",
      "source": [
        "xmodel = XGBClassifier(n_estimators=50, max_depth=1, min_child_weight=1, gamma=0.0)\n",
        "\n",
        "params = {'learning_rate': [0.001, 0.01, 0.1, 1]}\n",
        "\n",
        "kfold = StratifiedKFold(n_splits=10, shuffle=True)\n",
        "\n",
        "grid_search = GridSearchCV(xmodel, params, scoring='recall', n_jobs=-1, cv=kfold)\n",
        "grid_result = grid_search.fit(X_trainblc, y_trainblc)\n",
        "\n",
        "print('Melhor {:.4f} para {}'.format(grid_result.best_score_, grid_result.best_params_))"
      ],
      "metadata": {
        "id": "xxEKQKNoBhW0",
        "colab": {
          "base_uri": "https://localhost:8080/"
        },
        "outputId": "f9d7a59f-88d3-441d-eb0b-dc1ccf85bed7"
      },
      "execution_count": null,
      "outputs": [
        {
          "output_type": "stream",
          "name": "stdout",
          "text": [
            "Melhor 0.8871 para {'learning_rate': 0.001}\n"
          ]
        }
      ]
    },
    {
      "cell_type": "code",
      "source": [
        "# BIBLIOTECAS DAS MÉTRICAS\n",
        "from sklearn.metrics import classification_report\n",
        "from sklearn.metrics import roc_auc_score, accuracy_score, f1_score, confusion_matrix, classification_report"
      ],
      "metadata": {
        "id": "X3_Z8CBhEE47"
      },
      "execution_count": null,
      "outputs": []
    },
    {
      "cell_type": "code",
      "source": [
        "# MODELO FINAL\n",
        "xmodel = XGBClassifier(learning_rate=0.001, n_estimators=50, max_depth=1, min_child_weight=1, gamma=0.0)\n",
        "\n",
        "xmodel.fit(X_trainblc, y_trainblc)\n",
        "\n",
        "y_pred = xmodel.predict(X_testblc)\n",
        "y_predval = xmodel.predict(X_valblc)\n",
        "\n",
        "print('ROC DADOS TESTE:',round(roc_auc_score(y_testblc, y_pred)*100,2))\n",
        "print('CLASSIFICATION REPORT NOS DADOS DE TESTE')\n",
        "print(classification_report(y_testblc, y_pred))"
      ],
      "metadata": {
        "id": "Ns5tGLmCEUvk",
        "colab": {
          "base_uri": "https://localhost:8080/"
        },
        "outputId": "38e8e199-3120-4156-cfea-487a327ebfd5"
      },
      "execution_count": null,
      "outputs": [
        {
          "output_type": "stream",
          "name": "stdout",
          "text": [
            "ROC DADOS TESTE: 72.73\n",
            "CLASSIFICATION REPORT NOS DADOS DE TESTE\n",
            "              precision    recall  f1-score   support\n",
            "\n",
            "           0       0.82      0.59      0.68       374\n",
            "           1       0.68      0.87      0.76       374\n",
            "\n",
            "    accuracy                           0.73       748\n",
            "   macro avg       0.75      0.73      0.72       748\n",
            "weighted avg       0.75      0.73      0.72       748\n",
            "\n"
          ]
        }
      ]
    },
    {
      "cell_type": "code",
      "source": [
        "print('ROC DADOS VALIDAÇÃO:',round(roc_auc_score(y_valblc, y_predval)*100,2))\n",
        "print('CLASSIFICATION REPORT NOS DADOS DE VALIDAÇÃO')\n",
        "print(classification_report(y_testblc, y_pred))"
      ],
      "metadata": {
        "colab": {
          "base_uri": "https://localhost:8080/"
        },
        "id": "L5P6KiStStJh",
        "outputId": "c51bb3a4-9460-4499-c4ea-8033e0c2c299"
      },
      "execution_count": null,
      "outputs": [
        {
          "output_type": "stream",
          "name": "stdout",
          "text": [
            "ROC DADOS VALIDAÇÃO: 73.79\n",
            "CLASSIFICATION REPORT NOS DADOS DE VALIDAÇÃO\n",
            "              precision    recall  f1-score   support\n",
            "\n",
            "           0       0.82      0.59      0.68       374\n",
            "           1       0.68      0.87      0.76       374\n",
            "\n",
            "    accuracy                           0.73       748\n",
            "   macro avg       0.75      0.73      0.72       748\n",
            "weighted avg       0.75      0.73      0.72       748\n",
            "\n"
          ]
        }
      ]
    },
    {
      "cell_type": "code",
      "source": [
        "# MATRIZ DE VALIDAÇÃO\n",
        "testmatrix = confusion_matrix(y_testblc, y_pred)\n",
        "valmatrix = confusion_matrix(y_valblc, y_predval)"
      ],
      "metadata": {
        "id": "ZX3c0g6gHfAL"
      },
      "execution_count": null,
      "outputs": []
    },
    {
      "cell_type": "code",
      "source": [
        "# VIZUALIANDO PLOT\n",
        "fig, ax = plt.subplots(ncols=2, figsize=(12,4))\n",
        "\n",
        "ylabel = ['não', 'sim']\n",
        "xlabel = ['não', 'sim']\n",
        "\n",
        "ax[0].set_title('DADOS DE TESTE')\n",
        "sns.heatmap(testmatrix, annot=True, fmt='d', xticklabels=xlabel, yticklabels=ylabel, ax=ax[0])\n",
        "\n",
        "ax[1].set_title('DADOS DE VALIDAÇÃO')\n",
        "sns.heatmap(valmatrix, annot=True, fmt='d', xticklabels=xlabel, yticklabels=ylabel, ax=ax[1])\n",
        "\n",
        "plt.show()"
      ],
      "metadata": {
        "colab": {
          "base_uri": "https://localhost:8080/",
          "height": 394
        },
        "id": "Y-W_alO_Ug-g",
        "outputId": "72ad2014-3bf9-4df6-a703-7e1d76c336a7"
      },
      "execution_count": null,
      "outputs": [
        {
          "output_type": "display_data",
          "data": {
            "text/plain": [
              "<Figure size 1200x400 with 4 Axes>"
            ],
            "image/png": "[encoded data removed]"
          },
          "metadata": {}
        }
      ]
    },
    {
      "cell_type": "markdown",
      "source": [
        "# **`Conclusão`**\n",
        "* Tanto nos dados de teste quanto nos dados de validação obtive uma pontuação boa, os dados se comportaram bem e foram processados corretamente. Com esse algoritmo já conseguimos prever clientes com altas chances de cancelar os serviços com essa empresa de telefonia.\n",
        "---\n",
        "## **`Onde me encontrar:`**\n",
        "* **linkedin:** https://www.linkedin.com/in/piternicolas/\n",
        "* **instagram:** https://instagram.com/pit.nlima/"
      ],
      "metadata": {
        "id": "0CN-Ude1XGbg"
      }
    },
    {
      "cell_type": "code",
      "source": [],
      "metadata": {
        "id": "_-ijayvoWy_6"
      },
      "execution_count": null,
      "outputs": []
    }
  ]
}